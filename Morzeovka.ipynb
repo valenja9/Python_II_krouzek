{
  "nbformat": 4,
  "nbformat_minor": 0,
  "metadata": {
    "colab": {
      "name": "Morzeovka.ipynb",
      "provenance": [],
      "authorship_tag": "ABX9TyOoRJx8aB1puxeo4Ds1iSCW",
      "include_colab_link": true
    },
    "kernelspec": {
      "name": "python3",
      "display_name": "Python 3"
    }
  },
  "cells": [
    {
      "cell_type": "markdown",
      "metadata": {
        "id": "view-in-github",
        "colab_type": "text"
      },
      "source": [
        "<a href=\"https://colab.research.google.com/github/valenja9/Python_krouzek_11_14/blob/main/Morzeovka.ipynb\" target=\"_parent\"><img src=\"https://colab.research.google.com/assets/colab-badge.svg\" alt=\"Open In Colab\"/></a>"
      ]
    },
    {
      "cell_type": "code",
      "metadata": {
        "colab": {
          "base_uri": "https://localhost:8080/"
        },
        "id": "EnuQGKI7djC1",
        "outputId": "0f7dc676-60ac-4379-cccb-e0cf83f981a8"
      },
      "source": [
        "MORSE_CODE_DICT = { 'A':'.-', 'B':'-...', \n",
        "                    'C':'-.-.', 'D':'-..', 'E':'.', \n",
        "                    'F':'..-.', 'G':'--.', 'H':'....', \n",
        "                    'I':'..', 'J':'.---', 'K':'-.-', \n",
        "                    'L':'.-..', 'M':'--', 'N':'-.', \n",
        "                    'O':'---', 'P':'.--.', 'Q':'--.-', \n",
        "                    'R':'.-.', 'S':'...', 'T':'-', \n",
        "                    'U':'..-', 'V':'...-', 'W':'.--', \n",
        "                    'X':'-..-', 'Y':'-.--', 'Z':'--..', \n",
        "                    '1':'.----', '2':'..---', '3':'...--', \n",
        "                    '4':'....-', '5':'.....', '6':'-....', \n",
        "                    '7':'--...', '8':'---..', '9':'----.', \n",
        "                    '0':'-----', ', ':'--..--', '.':'.-.-.-', \n",
        "                    '?':'..--..', '/':'-..-.', '-':'-....-', \n",
        "                    '(':'-.--.', ')':'-.--.-'}\n",
        "\n",
        "#Do teto zpravy budu ukladat preklad\n",
        "zprava = \"\"\n",
        "#Co mohu zadávat?\n",
        "print(\"Co všechno si můžeš vybrat?\")\n",
        "for klic in MORSE_CODE_DICT.keys():\n",
        "    print(klic, end=\" \")\n",
        "\n",
        "\n",
        "#Dokud nenapisu exit, tak mohu porad zadávat!\n",
        "while True:\n",
        "  #Zadej co budeme prekladat do morzeovky \n",
        "  znak = input(\"zadej znak(Nebo zadej exit): \").upper()\n",
        "  \n",
        "  #Chceš přidávat anebo ukončit tento cyklus?\n",
        "  if znak != \"EXIT\": \n",
        "    zprava += MORSE_CODE_DICT[znak]\n",
        "  else:  \n",
        "    break\n",
        "\n",
        "print(zprava)"
      ],
      "execution_count": null,
      "outputs": [
        {
          "output_type": "stream",
          "text": [
            "Co všechno si můžeš vybrat?\n",
            "A B C D E F G H I J K L M N O P Q R S T U V W X Y Z 1 2 3 4 5 6 7 8 9 0 ,  . ? / - ( ) zadej znak(Nebo zadej exit): A\n",
            "zadej znak(Nebo zadej exit): B\n",
            "zadej znak(Nebo zadej exit): C\n",
            "zadej znak(Nebo zadej exit): D\n",
            "zadej znak(Nebo zadej exit): exit\n",
            ".--...-.-.-..\n"
          ],
          "name": "stdout"
        }
      ]
    },
    {
      "cell_type": "code",
      "metadata": {
        "colab": {
          "base_uri": "https://localhost:8080/"
        },
        "id": "-tnKbl2AfAEJ",
        "outputId": "0b5802c2-0cb3-4b8d-86b1-db22760ef424"
      },
      "source": [
        "MORSE_CODE_DICT = { 'A':'.-', 'B':'-...', \n",
        "                    'C':'-.-.', 'D':'-..', 'E':'.', \n",
        "                    'F':'..-.', 'G':'--.', 'H':'....', \n",
        "                    'I':'..', 'J':'.---', 'K':'-.-', \n",
        "                    'L':'.-..', 'M':'--', 'N':'-.', \n",
        "                    'O':'---', 'P':'.--.', 'Q':'--.-', \n",
        "                    'R':'.-.', 'S':'...', 'T':'-', \n",
        "                    'U':'..-', 'V':'...-', 'W':'.--', \n",
        "                    'X':'-..-', 'Y':'-.--', 'Z':'--..', \n",
        "                    '1':'.----', '2':'..---', '3':'...--', \n",
        "                    '4':'....-', '5':'.....', '6':'-....', \n",
        "                    '7':'--...', '8':'---..', '9':'----.', \n",
        "                    '0':'-----', ', ':'--..--', '.':'.-.-.-', \n",
        "                    '?':'..--..', '/':'-..-.', '-':'-....-', \n",
        "                    '(':'-.--.', ')':'-.--.-'}\n",
        "\n",
        "redict = {}\n",
        "for k,v in MORSE_CODE_DICT.items():\n",
        "  redict[v] = k\n",
        "redict\n",
        "#-----------------------------------------------------------------------\n",
        "\n",
        "\n",
        "\n",
        "#Do teto zpravy budu ukladat preklad\n",
        "zprava = \"\"\n",
        "#Co mohu zadávat?\n",
        "print(\"Co všechno si můžeš vybrat?\")\n",
        "for klic in MORSE_CODE_DICT.keys():\n",
        "    print(klic, end=\" \")\n",
        "\n",
        "\n",
        "#Dokud nenapisu exit, tak mohu porad zadávat!\n",
        "\n",
        "#Zadej co budeme prekladat do morzeovky \n",
        "zadani = input(\"zadej znak(Nebo zadej exit), vse rozdel pomoci mezery: \").upper()  \n",
        "#Chceš přidávat anebo ukončit tento cyklus?\n",
        "\n",
        "    #pridavani vice slov\n",
        "  # slova = zadani.split(\" \") \n",
        "for znak in zadani:\n",
        "  if znak != \" \":\n",
        "    zprava += MORSE_CODE_DICT[znak] + \" \"\n",
        "  else:\n",
        "    zprava += \", \"\n",
        "\n",
        "\n",
        "print(\"Zprava předělána do Morzeovky: \", zprava)\n",
        "\n",
        "#-----------------------------------------------------------------------\n",
        "#Prekladac z morzeovky!\n",
        "text = \"\"\n",
        "for znak in zprava.split(\" \")[:-1]:\n",
        "  if znak != \",\":\n",
        "    text += redict[znak]\n",
        "  else: \n",
        "    text += \" \"\n",
        "print(text)\n",
        "\n"
      ],
      "execution_count": null,
      "outputs": [
        {
          "output_type": "stream",
          "text": [
            "Co všechno si můžeš vybrat?\n",
            "A B C D E F G H I J K L M N O P Q R S T U V W X Y Z 1 2 3 4 5 6 7 8 9 0 ,  . ? / - ( ) zadej znak(Nebo zadej exit), vse rozdel pomoci mezery: Ahoj jak se tu vsem vede?\n",
            "Zprava předělána do Morzeovky:  .- .... --- .--- , .--- .- -.- , ... . , - ..- , ...- ... . -- , ...- . -.. . ..--.. \n"
          ],
          "name": "stdout"
        }
      ]
    },
    {
      "cell_type": "code",
      "metadata": {
        "colab": {
          "base_uri": "https://localhost:8080/"
        },
        "id": "o6_k20fXoNWR",
        "outputId": "67787bde-fd05-46ec-d142-52e6420dce4b"
      },
      "source": [
        "zprava.split(\" \")"
      ],
      "execution_count": null,
      "outputs": [
        {
          "output_type": "execute_result",
          "data": {
            "text/plain": [
              "['.-',\n",
              " '....',\n",
              " '---',\n",
              " '.---',\n",
              " ',',\n",
              " '.---',\n",
              " '.-',\n",
              " '-.-',\n",
              " ',',\n",
              " '...',\n",
              " '.',\n",
              " ',',\n",
              " '-',\n",
              " '..-',\n",
              " ',',\n",
              " '...-',\n",
              " '...',\n",
              " '..',\n",
              " '-.-.',\n",
              " '....',\n",
              " '-.',\n",
              " '..',\n",
              " ',',\n",
              " '--',\n",
              " '.-',\n",
              " '-',\n",
              " '.',\n",
              " '..--..',\n",
              " '']"
            ]
          },
          "metadata": {
            "tags": []
          },
          "execution_count": 80
        }
      ]
    },
    {
      "cell_type": "code",
      "metadata": {
        "colab": {
          "base_uri": "https://localhost:8080/"
        },
        "id": "Ug3rGaL7kgXX",
        "outputId": "83b6a2f2-149a-4ae2-8202-662bc8717ed6"
      },
      "source": [
        "redict = {}\n",
        "for k,v in MORSE_CODE_DICT.items():\n",
        "  redict[v] = k\n",
        "redict"
      ],
      "execution_count": null,
      "outputs": [
        {
          "output_type": "execute_result",
          "data": {
            "text/plain": [
              "{'-': 'T',\n",
              " '--': 'M',\n",
              " '---': 'O',\n",
              " '-----': '0',\n",
              " '----.': '9',\n",
              " '---..': '8',\n",
              " '--.': 'G',\n",
              " '--.-': 'Q',\n",
              " '--..': 'Z',\n",
              " '--..--': ', ',\n",
              " '--...': '7',\n",
              " '-.': 'N',\n",
              " '-.-': 'K',\n",
              " '-.--': 'Y',\n",
              " '-.--.': '(',\n",
              " '-.--.-': ')',\n",
              " '-.-.': 'C',\n",
              " '-..': 'D',\n",
              " '-..-': 'X',\n",
              " '-..-.': '/',\n",
              " '-...': 'B',\n",
              " '-....': '6',\n",
              " '-....-': '-',\n",
              " '.': 'E',\n",
              " '.-': 'A',\n",
              " '.--': 'W',\n",
              " '.---': 'J',\n",
              " '.----': '1',\n",
              " '.--.': 'P',\n",
              " '.-.': 'R',\n",
              " '.-.-.-': '.',\n",
              " '.-..': 'L',\n",
              " '..': 'I',\n",
              " '..-': 'U',\n",
              " '..---': '2',\n",
              " '..--..': '?',\n",
              " '..-.': 'F',\n",
              " '...': 'S',\n",
              " '...-': 'V',\n",
              " '...--': '3',\n",
              " '....': 'H',\n",
              " '....-': '4',\n",
              " '.....': '5'}"
            ]
          },
          "metadata": {
            "tags": []
          },
          "execution_count": 63
        }
      ]
    },
    {
      "cell_type": "code",
      "metadata": {
        "colab": {
          "base_uri": "https://localhost:8080/",
          "height": 35
        },
        "id": "NkMjbtHzmpqh",
        "outputId": "f779b25b-a970-45c8-ab85-1b98f7ecfd7d"
      },
      "source": [
        "#Prekladac z morzeovky!\n",
        "text = \"\"\n",
        "for znak in zprava.split(\" \")[:-1]:\n",
        "  if znak != \",\":\n",
        "    text += redict[znak]\n",
        "  else: \n",
        "    text += \" \"\n",
        "text"
      ],
      "execution_count": null,
      "outputs": [
        {
          "output_type": "execute_result",
          "data": {
            "application/vnd.google.colaboratory.intrinsic+json": {
              "type": "string"
            },
            "text/plain": [
              "'AHOJ JAK SE TU VSEM VEDE?'"
            ]
          },
          "metadata": {
            "tags": []
          },
          "execution_count": 89
        }
      ]
    },
    {
      "cell_type": "code",
      "metadata": {
        "colab": {
          "base_uri": "https://localhost:8080/"
        },
        "id": "xPzuopxxQLMn",
        "outputId": "06a99dba-4489-47b4-c791-3f7b7df34420"
      },
      "source": [
        " \n",
        "text = \"\"\n",
        "for k in \"Ahoj jak se tu mas?\".upper():\n",
        "  if k != \" \":\n",
        "    text += MORSE_CODE_DICT[k] + \" \"\n",
        "  else: \n",
        "      text += \" \"\n",
        "print(text)\n",
        "\n",
        "#redict\n",
        "redict = {}\n",
        "for k,v in MORSE_CODE_DICT.items():\n",
        "  redict[v] = k\n"
      ],
      "execution_count": null,
      "outputs": [
        {
          "output_type": "stream",
          "text": [
            ".- .... --- .---  .--- .- -.-  ... .  - ..-  -- .- ... ..--.. \n"
          ],
          "name": "stdout"
        }
      ]
    },
    {
      "cell_type": "code",
      "metadata": {
        "colab": {
          "base_uri": "https://localhost:8080/",
          "height": 382
        },
        "id": "8fABLmQDSvax",
        "outputId": "b410ca06-96e5-4898-bd56-42434e199e47"
      },
      "source": [
        "zprava = \".- .... --- .---  .--- .- -.-  ... .  - ..-  -- .- ... ..--.. \"\n",
        "predelany = \"\"\n",
        "for znak in zprava.split(\" \"):\n",
        "    print(znak)\n",
        "    if znak != \"\":\n",
        "      predelany += redict[znak]\n",
        "    else:\n",
        "      predelany += \" \"\n",
        "predelany.lower()"
      ],
      "execution_count": null,
      "outputs": [
        {
          "output_type": "stream",
          "text": [
            ".-\n",
            "....\n",
            "---\n",
            ".---\n",
            "\n",
            ".---\n",
            ".-\n",
            "-.-\n",
            "\n",
            "...\n",
            ".\n",
            "\n",
            "-\n",
            "..-\n",
            "\n",
            "--\n",
            ".-\n",
            "...\n",
            "..--..\n",
            "\n"
          ],
          "name": "stdout"
        },
        {
          "output_type": "execute_result",
          "data": {
            "application/vnd.google.colaboratory.intrinsic+json": {
              "type": "string"
            },
            "text/plain": [
              "'ahoj jak se tu mas? '"
            ]
          },
          "metadata": {
            "tags": []
          },
          "execution_count": 46
        }
      ]
    },
    {
      "cell_type": "code",
      "metadata": {
        "colab": {
          "base_uri": "https://localhost:8080/",
          "height": 1000
        },
        "id": "LIu8xQnTQOS3",
        "outputId": "16a3eea4-e923-462c-b944-4e9a915b221e"
      },
      "source": [
        "import pandas as pd\n",
        "pd.DataFrame(MORSE_CODE_DICT.items(),columns=[\"Znak\",\"Preklad\"])"
      ],
      "execution_count": null,
      "outputs": [
        {
          "output_type": "execute_result",
          "data": {
            "text/html": [
              "<div>\n",
              "<style scoped>\n",
              "    .dataframe tbody tr th:only-of-type {\n",
              "        vertical-align: middle;\n",
              "    }\n",
              "\n",
              "    .dataframe tbody tr th {\n",
              "        vertical-align: top;\n",
              "    }\n",
              "\n",
              "    .dataframe thead th {\n",
              "        text-align: right;\n",
              "    }\n",
              "</style>\n",
              "<table border=\"1\" class=\"dataframe\">\n",
              "  <thead>\n",
              "    <tr style=\"text-align: right;\">\n",
              "      <th></th>\n",
              "      <th>Znak</th>\n",
              "      <th>Preklad</th>\n",
              "    </tr>\n",
              "  </thead>\n",
              "  <tbody>\n",
              "    <tr>\n",
              "      <th>0</th>\n",
              "      <td>A</td>\n",
              "      <td>.-</td>\n",
              "    </tr>\n",
              "    <tr>\n",
              "      <th>1</th>\n",
              "      <td>B</td>\n",
              "      <td>-...</td>\n",
              "    </tr>\n",
              "    <tr>\n",
              "      <th>2</th>\n",
              "      <td>C</td>\n",
              "      <td>-.-.</td>\n",
              "    </tr>\n",
              "    <tr>\n",
              "      <th>3</th>\n",
              "      <td>D</td>\n",
              "      <td>-..</td>\n",
              "    </tr>\n",
              "    <tr>\n",
              "      <th>4</th>\n",
              "      <td>E</td>\n",
              "      <td>.</td>\n",
              "    </tr>\n",
              "    <tr>\n",
              "      <th>5</th>\n",
              "      <td>F</td>\n",
              "      <td>..-.</td>\n",
              "    </tr>\n",
              "    <tr>\n",
              "      <th>6</th>\n",
              "      <td>G</td>\n",
              "      <td>--.</td>\n",
              "    </tr>\n",
              "    <tr>\n",
              "      <th>7</th>\n",
              "      <td>H</td>\n",
              "      <td>....</td>\n",
              "    </tr>\n",
              "    <tr>\n",
              "      <th>8</th>\n",
              "      <td>I</td>\n",
              "      <td>..</td>\n",
              "    </tr>\n",
              "    <tr>\n",
              "      <th>9</th>\n",
              "      <td>J</td>\n",
              "      <td>.---</td>\n",
              "    </tr>\n",
              "    <tr>\n",
              "      <th>10</th>\n",
              "      <td>K</td>\n",
              "      <td>-.-</td>\n",
              "    </tr>\n",
              "    <tr>\n",
              "      <th>11</th>\n",
              "      <td>L</td>\n",
              "      <td>.-..</td>\n",
              "    </tr>\n",
              "    <tr>\n",
              "      <th>12</th>\n",
              "      <td>M</td>\n",
              "      <td>--</td>\n",
              "    </tr>\n",
              "    <tr>\n",
              "      <th>13</th>\n",
              "      <td>N</td>\n",
              "      <td>-.</td>\n",
              "    </tr>\n",
              "    <tr>\n",
              "      <th>14</th>\n",
              "      <td>O</td>\n",
              "      <td>---</td>\n",
              "    </tr>\n",
              "    <tr>\n",
              "      <th>15</th>\n",
              "      <td>P</td>\n",
              "      <td>.--.</td>\n",
              "    </tr>\n",
              "    <tr>\n",
              "      <th>16</th>\n",
              "      <td>Q</td>\n",
              "      <td>--.-</td>\n",
              "    </tr>\n",
              "    <tr>\n",
              "      <th>17</th>\n",
              "      <td>R</td>\n",
              "      <td>.-.</td>\n",
              "    </tr>\n",
              "    <tr>\n",
              "      <th>18</th>\n",
              "      <td>S</td>\n",
              "      <td>...</td>\n",
              "    </tr>\n",
              "    <tr>\n",
              "      <th>19</th>\n",
              "      <td>T</td>\n",
              "      <td>-</td>\n",
              "    </tr>\n",
              "    <tr>\n",
              "      <th>20</th>\n",
              "      <td>U</td>\n",
              "      <td>..-</td>\n",
              "    </tr>\n",
              "    <tr>\n",
              "      <th>21</th>\n",
              "      <td>V</td>\n",
              "      <td>...-</td>\n",
              "    </tr>\n",
              "    <tr>\n",
              "      <th>22</th>\n",
              "      <td>W</td>\n",
              "      <td>.--</td>\n",
              "    </tr>\n",
              "    <tr>\n",
              "      <th>23</th>\n",
              "      <td>X</td>\n",
              "      <td>-..-</td>\n",
              "    </tr>\n",
              "    <tr>\n",
              "      <th>24</th>\n",
              "      <td>Y</td>\n",
              "      <td>-.--</td>\n",
              "    </tr>\n",
              "    <tr>\n",
              "      <th>25</th>\n",
              "      <td>Z</td>\n",
              "      <td>--..</td>\n",
              "    </tr>\n",
              "    <tr>\n",
              "      <th>26</th>\n",
              "      <td>1</td>\n",
              "      <td>.----</td>\n",
              "    </tr>\n",
              "    <tr>\n",
              "      <th>27</th>\n",
              "      <td>2</td>\n",
              "      <td>..---</td>\n",
              "    </tr>\n",
              "    <tr>\n",
              "      <th>28</th>\n",
              "      <td>3</td>\n",
              "      <td>...--</td>\n",
              "    </tr>\n",
              "    <tr>\n",
              "      <th>29</th>\n",
              "      <td>4</td>\n",
              "      <td>....-</td>\n",
              "    </tr>\n",
              "    <tr>\n",
              "      <th>30</th>\n",
              "      <td>5</td>\n",
              "      <td>.....</td>\n",
              "    </tr>\n",
              "    <tr>\n",
              "      <th>31</th>\n",
              "      <td>6</td>\n",
              "      <td>-....</td>\n",
              "    </tr>\n",
              "    <tr>\n",
              "      <th>32</th>\n",
              "      <td>7</td>\n",
              "      <td>--...</td>\n",
              "    </tr>\n",
              "    <tr>\n",
              "      <th>33</th>\n",
              "      <td>8</td>\n",
              "      <td>---..</td>\n",
              "    </tr>\n",
              "    <tr>\n",
              "      <th>34</th>\n",
              "      <td>9</td>\n",
              "      <td>----.</td>\n",
              "    </tr>\n",
              "    <tr>\n",
              "      <th>35</th>\n",
              "      <td>0</td>\n",
              "      <td>-----</td>\n",
              "    </tr>\n",
              "    <tr>\n",
              "      <th>36</th>\n",
              "      <td>,</td>\n",
              "      <td>--..--</td>\n",
              "    </tr>\n",
              "    <tr>\n",
              "      <th>37</th>\n",
              "      <td>.</td>\n",
              "      <td>.-.-.-</td>\n",
              "    </tr>\n",
              "    <tr>\n",
              "      <th>38</th>\n",
              "      <td>?</td>\n",
              "      <td>..--..</td>\n",
              "    </tr>\n",
              "    <tr>\n",
              "      <th>39</th>\n",
              "      <td>/</td>\n",
              "      <td>-..-.</td>\n",
              "    </tr>\n",
              "    <tr>\n",
              "      <th>40</th>\n",
              "      <td>-</td>\n",
              "      <td>-....-</td>\n",
              "    </tr>\n",
              "    <tr>\n",
              "      <th>41</th>\n",
              "      <td>(</td>\n",
              "      <td>-.--.</td>\n",
              "    </tr>\n",
              "    <tr>\n",
              "      <th>42</th>\n",
              "      <td>)</td>\n",
              "      <td>-.--.-</td>\n",
              "    </tr>\n",
              "  </tbody>\n",
              "</table>\n",
              "</div>"
            ],
            "text/plain": [
              "   Znak Preklad\n",
              "0     A      .-\n",
              "1     B    -...\n",
              "2     C    -.-.\n",
              "3     D     -..\n",
              "4     E       .\n",
              "5     F    ..-.\n",
              "6     G     --.\n",
              "7     H    ....\n",
              "8     I      ..\n",
              "9     J    .---\n",
              "10    K     -.-\n",
              "11    L    .-..\n",
              "12    M      --\n",
              "13    N      -.\n",
              "14    O     ---\n",
              "15    P    .--.\n",
              "16    Q    --.-\n",
              "17    R     .-.\n",
              "18    S     ...\n",
              "19    T       -\n",
              "20    U     ..-\n",
              "21    V    ...-\n",
              "22    W     .--\n",
              "23    X    -..-\n",
              "24    Y    -.--\n",
              "25    Z    --..\n",
              "26    1   .----\n",
              "27    2   ..---\n",
              "28    3   ...--\n",
              "29    4   ....-\n",
              "30    5   .....\n",
              "31    6   -....\n",
              "32    7   --...\n",
              "33    8   ---..\n",
              "34    9   ----.\n",
              "35    0   -----\n",
              "36   ,   --..--\n",
              "37    .  .-.-.-\n",
              "38    ?  ..--..\n",
              "39    /   -..-.\n",
              "40    -  -....-\n",
              "41    (   -.--.\n",
              "42    )  -.--.-"
            ]
          },
          "metadata": {
            "tags": []
          },
          "execution_count": 6
        }
      ]
    }
  ]
}