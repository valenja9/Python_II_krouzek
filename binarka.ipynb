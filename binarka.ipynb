{
  "nbformat": 4,
  "nbformat_minor": 0,
  "metadata": {
    "colab": {
      "name": "binarka.ipynb",
      "provenance": [],
      "authorship_tag": "ABX9TyM9caNsCZmWPd6kmLc97kZD",
      "include_colab_link": true
    },
    "kernelspec": {
      "name": "python3",
      "display_name": "Python 3"
    }
  },
  "cells": [
    {
      "cell_type": "markdown",
      "metadata": {
        "id": "view-in-github",
        "colab_type": "text"
      },
      "source": [
        "<a href=\"https://colab.research.google.com/github/valenja9/Python_krouzek_11_14/blob/main/binarka.ipynb\" target=\"_parent\"><img src=\"https://colab.research.google.com/assets/colab-badge.svg\" alt=\"Open In Colab\"/></a>"
      ]
    },
    {
      "cell_type": "code",
      "metadata": {
        "id": "gLn-mbR-iuEi"
      },
      "source": [
        "#10101010 \n",
        "a = 97 \n",
        "#bit\n",
        "#byte = 8 bitu"
      ],
      "execution_count": null,
      "outputs": []
    },
    {
      "cell_type": "code",
      "metadata": {
        "id": "wSC_7pgMkdJM"
      },
      "source": [
        "# 128 64  32  16 8  4  2  1 \n",
        "#  0   1   1  0  0  0  0  1  = 1 + 32 + 64 = 97\n",
        "#  0   1   1  0  0  1  1  1  = 64 + 32 + 4 + 2 + 1 = 103"
      ],
      "execution_count": null,
      "outputs": []
    },
    {
      "cell_type": "code",
      "metadata": {
        "id": "2-GlqwVyx1tF"
      },
      "source": [
        "# 128 64  32  16 8  4  2  1 (97)    8 \n",
        "#                             =   = 97"
      ],
      "execution_count": null,
      "outputs": []
    },
    {
      "cell_type": "code",
      "metadata": {
        "id": "4mT28fAZ1QHm"
      },
      "source": [
        "# 128 64  32  16 8  4  2  1   (111)\n",
        "                             "
      ],
      "execution_count": null,
      "outputs": []
    },
    {
      "cell_type": "code",
      "metadata": {
        "id": "MvdZfOe4Xt-M"
      },
      "source": [
        "# 128  64  32  16  8  4  2  1  (65)\n",
        "#   0   1    0  0   0  0  0  1  "
      ],
      "execution_count": null,
      "outputs": []
    },
    {
      "cell_type": "code",
      "metadata": {
        "id": "i33mgm1EYQk7"
      },
      "source": [
        "# 128  64  32  16  8  4  2  1  (88)\n",
        "#   0    1  0    1  1  0  0  0"
      ],
      "execution_count": null,
      "outputs": []
    },
    {
      "cell_type": "code",
      "metadata": {
        "id": "0-rRQcZikdEm"
      },
      "source": [
        "01101010 = 106"
      ],
      "execution_count": null,
      "outputs": []
    },
    {
      "cell_type": "code",
      "metadata": {
        "id": "NHhgOJ-pmYwJ"
      },
      "source": [
        "100 = 01100100"
      ],
      "execution_count": null,
      "outputs": []
    },
    {
      "cell_type": "code",
      "metadata": {
        "colab": {
          "base_uri": "https://localhost:8080/",
          "height": 35
        },
        "id": "PCYoo5qF28Ui",
        "outputId": "80cfa5bc-d3a3-44c7-d8bc-8e28cf2268b1"
      },
      "source": [
        "chr(138)"
      ],
      "execution_count": null,
      "outputs": [
        {
          "output_type": "execute_result",
          "data": {
            "application/vnd.google.colaboratory.intrinsic+json": {
              "type": "string"
            },
            "text/plain": [
              "'\\x8a'"
            ]
          },
          "metadata": {
            "tags": []
          },
          "execution_count": 6
        }
      ]
    },
    {
      "cell_type": "code",
      "metadata": {
        "colab": {
          "base_uri": "https://localhost:8080/",
          "height": 35
        },
        "id": "BjwYUCXdmMA3",
        "outputId": "69c5e8f5-2ea7-4e19-dc2d-c19fe051d815"
      },
      "source": [
        "chr(230)"
      ],
      "execution_count": null,
      "outputs": [
        {
          "output_type": "execute_result",
          "data": {
            "application/vnd.google.colaboratory.intrinsic+json": {
              "type": "string"
            },
            "text/plain": [
              "'æ'"
            ]
          },
          "metadata": {
            "tags": []
          },
          "execution_count": 2
        }
      ]
    },
    {
      "cell_type": "code",
      "metadata": {
        "id": "J3MapOpdlOc1"
      },
      "source": [
        "@#aAa#@"
      ],
      "execution_count": null,
      "outputs": []
    },
    {
      "cell_type": "code",
      "metadata": {
        "colab": {
          "base_uri": "https://localhost:8080/"
        },
        "id": "g95uNeMJY566",
        "outputId": "8013850f-d282-48c4-c688-ba6b77d62364"
      },
      "source": [
        "pismeno = input(\"Zadej nejake pismeno: \")\n",
        "ord(\"X\")"
      ],
      "execution_count": null,
      "outputs": [
        {
          "output_type": "execute_result",
          "data": {
            "text/plain": [
              "88"
            ]
          },
          "metadata": {
            "tags": []
          },
          "execution_count": 2
        }
      ]
    },
    {
      "cell_type": "code",
      "metadata": {
        "colab": {
          "base_uri": "https://localhost:8080/"
        },
        "id": "BwrHVgc0m9AO",
        "outputId": "907e2cd1-4587-4c78-eff2-48cb2b2af567"
      },
      "source": [
        "pismeno = input(\"Zadej nejake pismeno: \") #Vlozeni pismena\n",
        "ciselna_podoba_pismena = ord(pismeno) #zjistim cislo\n",
        "binarni_cislo = bin(ciselna_podoba_pismena)  #zjistim binarku\n",
        "print(f\"Zadal jsi pismeno: {pismeno}, jeho dekadicka hodnota je: {ciselna_podoba_pismena} a binarni podoba je: {binarni_cislo} \")"
      ],
      "execution_count": null,
      "outputs": [
        {
          "output_type": "stream",
          "text": [
            "Zadej nejake pismeno: Z\n",
            "Zadal jsi pismeno: Z, jeho dekadicka hodnota je: 90 a binarni podoba je: 0b1011010 \n"
          ],
          "name": "stdout"
        }
      ]
    },
    {
      "cell_type": "code",
      "metadata": {
        "colab": {
          "base_uri": "https://localhost:8080/"
        },
        "id": "6SFHLW7Am88x",
        "outputId": "ad58f194-192d-452f-ee9d-dd47455a8664"
      },
      "source": [
        "pismeno = input(\"Zadej nějaké písmeno: \")\n",
        "cislena_podoba_pismena = ord(pismeno)\n",
        "binarni_cislo = bin(cislena_podoba_pismena)\n",
        "replace = binarni_cislo.replace(\"b\", \"\")\n",
        "print(f\"Zadal jsi pismeno: {pismeno}, jeho dekadicka hodnota je: {cislena_podoba_pismena} a binarni podoba je: {replace}.\")"
      ],
      "execution_count": null,
      "outputs": [
        {
          "output_type": "stream",
          "text": [
            "Zadej nějaké písmeno: d\n",
            "Zadal jsi pismeno: d, jeho dekadicka hodnota je: 100 a binarni podoba je: 01100100.\n"
          ],
          "name": "stdout"
        }
      ]
    },
    {
      "cell_type": "code",
      "metadata": {
        "colab": {
          "base_uri": "https://localhost:8080/",
          "height": 53
        },
        "id": "xViWp3Ksppjt",
        "outputId": "20fe0dbe-0a42-45cf-d880-fa49535c3496"
      },
      "source": [
        "#drobny ukol vypis binarni kod v opacnem poradi.\n",
        "print(replace)\n",
        "replace[::-1]"
      ],
      "execution_count": null,
      "outputs": [
        {
          "output_type": "stream",
          "text": [
            "01100100\n"
          ],
          "name": "stdout"
        },
        {
          "output_type": "execute_result",
          "data": {
            "application/vnd.google.colaboratory.intrinsic+json": {
              "type": "string"
            },
            "text/plain": [
              "'00100110'"
            ]
          },
          "metadata": {
            "tags": []
          },
          "execution_count": 15
        }
      ]
    },
    {
      "cell_type": "code",
      "metadata": {
        "colab": {
          "base_uri": "https://localhost:8080/"
        },
        "id": "hom3HWMLrxaQ",
        "outputId": "f0fe816a-13dc-4f8f-e2b5-510b3e0f975b"
      },
      "source": [
        "int(replace, base=2) #0-255 (256)"
      ],
      "execution_count": null,
      "outputs": [
        {
          "output_type": "execute_result",
          "data": {
            "text/plain": [
              "100"
            ]
          },
          "metadata": {
            "tags": []
          },
          "execution_count": 16
        }
      ]
    },
    {
      "cell_type": "code",
      "metadata": {
        "colab": {
          "base_uri": "https://localhost:8080/"
        },
        "id": "on16DM5MrxWn",
        "outputId": "86bb8ec0-bddd-4fd6-afd4-794ddf170a85"
      },
      "source": [
        "pismeno = input(\"Zadej nějaké písmeno nebo zadej binarární kód: \")\n",
        "if len(pismeno) == 1 and pismeno.isalpha():\n",
        "  cislena_podoba_pismena = ord(pismeno)\n",
        "  binarni_cislo = bin(cislena_podoba_pismena)\n",
        "  replace = binarni_cislo.replace(\"b\", \"\")\n",
        "  print(f\"Zadal jsi pismeno: {pismeno}, jeho dekadicka hodnota je: {cislena_podoba_pismena} a binarni podoba je: {replace}.\")\n",
        "elif pismeno.isdecimal() and len(pismeno) < 8:\n",
        "  print(f\"Zadel jsi cislo v desetine soustave a je tam tohle pismeno: {chr(int(pismeno))}\")\n",
        "elif len(pismeno) == 8:\n",
        "  print(f\"Převod na dekadickou soustavu: {int(pismeno, base=2)}\")\n",
        "else:\n",
        "  print(\"Něco se nepovedlo.\")\n"
      ],
      "execution_count": null,
      "outputs": [
        {
          "output_type": "stream",
          "text": [
            "Zadej nějaké písmeno nebo zadej binarární kód: 97\n",
            "Zadel jsi cislo v desetine soustave a je tam tohle pismeno: a\n"
          ],
          "name": "stdout"
        }
      ]
    },
    {
      "cell_type": "code",
      "metadata": {
        "colab": {
          "base_uri": "https://localhost:8080/"
        },
        "id": "qvTyQMotrxSU",
        "outputId": "cdecc0dd-37fe-43a4-fcb5-f8c066fafc9d"
      },
      "source": [
        "for pismeno in \"Python\":\n",
        "  print(pismeno)"
      ],
      "execution_count": null,
      "outputs": [
        {
          "output_type": "stream",
          "text": [
            "P\n",
            "y\n",
            "t\n",
            "h\n",
            "o\n",
            "n\n"
          ],
          "name": "stdout"
        }
      ]
    },
    {
      "cell_type": "code",
      "metadata": {
        "colab": {
          "base_uri": "https://localhost:8080/",
          "height": 35
        },
        "id": "QtiQc9YS0GId",
        "outputId": "6ad58ca2-c5e3-457b-85d5-a5b42d500a1b"
      },
      "source": [
        "import string\n",
        "string.ascii_letters"
      ],
      "execution_count": null,
      "outputs": [
        {
          "output_type": "execute_result",
          "data": {
            "application/vnd.google.colaboratory.intrinsic+json": {
              "type": "string"
            },
            "text/plain": [
              "'abcdefghijklmnopqrstuvwxyzABCDEFGHIJKLMNOPQRSTUVWXYZ'"
            ]
          },
          "metadata": {
            "tags": []
          },
          "execution_count": 39
        }
      ]
    },
    {
      "cell_type": "code",
      "metadata": {
        "colab": {
          "base_uri": "https://localhost:8080/"
        },
        "id": "fZuU2f_3y7R0",
        "outputId": "3321e54f-fe34-4690-9e1c-188ce7dddc9c"
      },
      "source": [
        "import string\n",
        "pismena = string.ascii_letters\n",
        "for pismeno in pismena:\n",
        "    binarni_cislo = bin(ord(pismeno))\n",
        "    replace = binarni_cislo.replace(\"b\", \"\")\n",
        "    print(\"Zadane pismeno: \", pismeno, \"Ascii kod: \",ord(pismeno), \"V binarnim kodu, to je:\", replace)\n",
        "#01100001,01101000,"
      ],
      "execution_count": null,
      "outputs": [
        {
          "output_type": "stream",
          "text": [
            "Zadane pismeno:  a Ascii kod:  97 V binarnim kodu, to je: 01100001\n",
            "Zadane pismeno:  b Ascii kod:  98 V binarnim kodu, to je: 01100010\n",
            "Zadane pismeno:  c Ascii kod:  99 V binarnim kodu, to je: 01100011\n",
            "Zadane pismeno:  d Ascii kod:  100 V binarnim kodu, to je: 01100100\n",
            "Zadane pismeno:  e Ascii kod:  101 V binarnim kodu, to je: 01100101\n",
            "Zadane pismeno:  f Ascii kod:  102 V binarnim kodu, to je: 01100110\n",
            "Zadane pismeno:  g Ascii kod:  103 V binarnim kodu, to je: 01100111\n",
            "Zadane pismeno:  h Ascii kod:  104 V binarnim kodu, to je: 01101000\n",
            "Zadane pismeno:  i Ascii kod:  105 V binarnim kodu, to je: 01101001\n",
            "Zadane pismeno:  j Ascii kod:  106 V binarnim kodu, to je: 01101010\n",
            "Zadane pismeno:  k Ascii kod:  107 V binarnim kodu, to je: 01101011\n",
            "Zadane pismeno:  l Ascii kod:  108 V binarnim kodu, to je: 01101100\n",
            "Zadane pismeno:  m Ascii kod:  109 V binarnim kodu, to je: 01101101\n",
            "Zadane pismeno:  n Ascii kod:  110 V binarnim kodu, to je: 01101110\n",
            "Zadane pismeno:  o Ascii kod:  111 V binarnim kodu, to je: 01101111\n",
            "Zadane pismeno:  p Ascii kod:  112 V binarnim kodu, to je: 01110000\n",
            "Zadane pismeno:  q Ascii kod:  113 V binarnim kodu, to je: 01110001\n",
            "Zadane pismeno:  r Ascii kod:  114 V binarnim kodu, to je: 01110010\n",
            "Zadane pismeno:  s Ascii kod:  115 V binarnim kodu, to je: 01110011\n",
            "Zadane pismeno:  t Ascii kod:  116 V binarnim kodu, to je: 01110100\n",
            "Zadane pismeno:  u Ascii kod:  117 V binarnim kodu, to je: 01110101\n",
            "Zadane pismeno:  v Ascii kod:  118 V binarnim kodu, to je: 01110110\n",
            "Zadane pismeno:  w Ascii kod:  119 V binarnim kodu, to je: 01110111\n",
            "Zadane pismeno:  x Ascii kod:  120 V binarnim kodu, to je: 01111000\n",
            "Zadane pismeno:  y Ascii kod:  121 V binarnim kodu, to je: 01111001\n",
            "Zadane pismeno:  z Ascii kod:  122 V binarnim kodu, to je: 01111010\n",
            "Zadane pismeno:  A Ascii kod:  65 V binarnim kodu, to je: 01000001\n",
            "Zadane pismeno:  B Ascii kod:  66 V binarnim kodu, to je: 01000010\n",
            "Zadane pismeno:  C Ascii kod:  67 V binarnim kodu, to je: 01000011\n",
            "Zadane pismeno:  D Ascii kod:  68 V binarnim kodu, to je: 01000100\n",
            "Zadane pismeno:  E Ascii kod:  69 V binarnim kodu, to je: 01000101\n",
            "Zadane pismeno:  F Ascii kod:  70 V binarnim kodu, to je: 01000110\n",
            "Zadane pismeno:  G Ascii kod:  71 V binarnim kodu, to je: 01000111\n",
            "Zadane pismeno:  H Ascii kod:  72 V binarnim kodu, to je: 01001000\n",
            "Zadane pismeno:  I Ascii kod:  73 V binarnim kodu, to je: 01001001\n",
            "Zadane pismeno:  J Ascii kod:  74 V binarnim kodu, to je: 01001010\n",
            "Zadane pismeno:  K Ascii kod:  75 V binarnim kodu, to je: 01001011\n",
            "Zadane pismeno:  L Ascii kod:  76 V binarnim kodu, to je: 01001100\n",
            "Zadane pismeno:  M Ascii kod:  77 V binarnim kodu, to je: 01001101\n",
            "Zadane pismeno:  N Ascii kod:  78 V binarnim kodu, to je: 01001110\n",
            "Zadane pismeno:  O Ascii kod:  79 V binarnim kodu, to je: 01001111\n",
            "Zadane pismeno:  P Ascii kod:  80 V binarnim kodu, to je: 01010000\n",
            "Zadane pismeno:  Q Ascii kod:  81 V binarnim kodu, to je: 01010001\n",
            "Zadane pismeno:  R Ascii kod:  82 V binarnim kodu, to je: 01010010\n",
            "Zadane pismeno:  S Ascii kod:  83 V binarnim kodu, to je: 01010011\n",
            "Zadane pismeno:  T Ascii kod:  84 V binarnim kodu, to je: 01010100\n",
            "Zadane pismeno:  U Ascii kod:  85 V binarnim kodu, to je: 01010101\n",
            "Zadane pismeno:  V Ascii kod:  86 V binarnim kodu, to je: 01010110\n",
            "Zadane pismeno:  W Ascii kod:  87 V binarnim kodu, to je: 01010111\n",
            "Zadane pismeno:  X Ascii kod:  88 V binarnim kodu, to je: 01011000\n",
            "Zadane pismeno:  Y Ascii kod:  89 V binarnim kodu, to je: 01011001\n",
            "Zadane pismeno:  Z Ascii kod:  90 V binarnim kodu, to je: 01011010\n"
          ],
          "name": "stdout"
        }
      ]
    },
    {
      "cell_type": "code",
      "metadata": {
        "id": "mDC67p-wy7Nu"
      },
      "source": [
        "slovnik = {}\n",
        "slovnik = dict()\n",
        "\n",
        "#klic:hodnota"
      ],
      "execution_count": null,
      "outputs": []
    },
    {
      "cell_type": "code",
      "metadata": {
        "id": "eIdqq02oy7IA",
        "colab": {
          "base_uri": "https://localhost:8080/"
        },
        "outputId": "093c7dff-e1c9-46f1-bc6b-ef1d0437087a"
      },
      "source": [
        "slovnik = {\"lazy\": \"liný\", \"tall\": \"vysoký\"}\n",
        "\n",
        "while True: #Nekonecna smycka! \n",
        "      dvojice_slov = input(\"Zadej dvojici slov, kterou oddel carkou. Anebo zadej q pro exit\")\n",
        "      if dvojice_slov != \"q\":\n",
        "        klic, hodnotu = dvojice_slov.split(\",\")\n",
        "        slovnik[klic] = hodnotu\n",
        "      else:\n",
        "        break\n",
        "slovnik"
      ],
      "execution_count": null,
      "outputs": [
        {
          "output_type": "stream",
          "text": [
            "Zadej dvojici slov, kterou kzdfel carkou. Anebo zadej q pro exitfast,rychlý\n",
            "Zadej dvojici slov, kterou kzdfel carkou. Anebo zadej q pro exitslow,pomalý\n",
            "Zadej dvojici slov, kterou kzdfel carkou. Anebo zadej q pro exitq\n"
          ],
          "name": "stdout"
        },
        {
          "output_type": "execute_result",
          "data": {
            "text/plain": [
              "{'fast': 'rychlý', 'lazy': 'liný', 'slow': 'pomalý', 'tall': 'vysoký'}"
            ]
          },
          "metadata": {
            "tags": []
          },
          "execution_count": 6
        }
      ]
    },
    {
      "cell_type": "code",
      "metadata": {
        "colab": {
          "base_uri": "https://localhost:8080/"
        },
        "id": "p_scqRLR2c2-",
        "outputId": "1134ea4d-778b-498d-a961-9a5c10edcdef"
      },
      "source": [
        "slovnik.items()"
      ],
      "execution_count": null,
      "outputs": [
        {
          "output_type": "execute_result",
          "data": {
            "text/plain": [
              "dict_items([('lazy', 'liný'), ('tall', 'vysoký'), ('fast', 'rychlý'), ('slow', 'pomalý'), ('happy', 'štasný')])"
            ]
          },
          "metadata": {
            "tags": []
          },
          "execution_count": 17
        }
      ]
    },
    {
      "cell_type": "code",
      "metadata": {
        "colab": {
          "base_uri": "https://localhost:8080/"
        },
        "id": "033NxtKe2hYL",
        "outputId": "91df9429-b366-4dd6-ec2b-23a819f13c4a"
      },
      "source": [
        "slovnik.keys()"
      ],
      "execution_count": null,
      "outputs": [
        {
          "output_type": "execute_result",
          "data": {
            "text/plain": [
              "dict_keys(['lazy', 'tall', 'fast', 'slow', 'happy'])"
            ]
          },
          "metadata": {
            "tags": []
          },
          "execution_count": 18
        }
      ]
    },
    {
      "cell_type": "code",
      "metadata": {
        "colab": {
          "base_uri": "https://localhost:8080/",
          "height": 203
        },
        "id": "cCGSn3KM2EaT",
        "outputId": "bf385852-9423-4d64-9058-ed99b4d2f4ca"
      },
      "source": [
        "import pandas as pd\n",
        "pd.DataFrame(slovnik.items(), columns=[\"anglicky\", \"česky\"])"
      ],
      "execution_count": null,
      "outputs": [
        {
          "output_type": "execute_result",
          "data": {
            "text/html": [
              "<div>\n",
              "<style scoped>\n",
              "    .dataframe tbody tr th:only-of-type {\n",
              "        vertical-align: middle;\n",
              "    }\n",
              "\n",
              "    .dataframe tbody tr th {\n",
              "        vertical-align: top;\n",
              "    }\n",
              "\n",
              "    .dataframe thead th {\n",
              "        text-align: right;\n",
              "    }\n",
              "</style>\n",
              "<table border=\"1\" class=\"dataframe\">\n",
              "  <thead>\n",
              "    <tr style=\"text-align: right;\">\n",
              "      <th></th>\n",
              "      <th>anglicky</th>\n",
              "      <th>česky</th>\n",
              "    </tr>\n",
              "  </thead>\n",
              "  <tbody>\n",
              "    <tr>\n",
              "      <th>0</th>\n",
              "      <td>lazy</td>\n",
              "      <td>liný</td>\n",
              "    </tr>\n",
              "    <tr>\n",
              "      <th>1</th>\n",
              "      <td>tall</td>\n",
              "      <td>vysoký</td>\n",
              "    </tr>\n",
              "    <tr>\n",
              "      <th>2</th>\n",
              "      <td>fast</td>\n",
              "      <td>rychlý</td>\n",
              "    </tr>\n",
              "    <tr>\n",
              "      <th>3</th>\n",
              "      <td>slow</td>\n",
              "      <td>pomalý</td>\n",
              "    </tr>\n",
              "    <tr>\n",
              "      <th>4</th>\n",
              "      <td>happy</td>\n",
              "      <td>štasný</td>\n",
              "    </tr>\n",
              "  </tbody>\n",
              "</table>\n",
              "</div>"
            ],
            "text/plain": [
              "  anglicky   česky\n",
              "0     lazy    liný\n",
              "1     tall  vysoký\n",
              "2     fast  rychlý\n",
              "3     slow  pomalý\n",
              "4    happy  štasný"
            ]
          },
          "metadata": {
            "tags": []
          },
          "execution_count": 20
        }
      ]
    },
    {
      "cell_type": "code",
      "metadata": {
        "id": "xmghqAuC3Bfz"
      },
      "source": [
        "pd.DataFrame(slovnik.items(), columns=[\"anglicky\", \"česky\"]).to_html(\"slovicka.html\")"
      ],
      "execution_count": null,
      "outputs": []
    },
    {
      "cell_type": "code",
      "metadata": {
        "colab": {
          "base_uri": "https://localhost:8080/",
          "height": 35
        },
        "id": "Ng0RaTXAoUpN",
        "outputId": "f9387663-f07b-4dee-f43d-daccf9488591"
      },
      "source": [
        "slovnik[\"lazy\"]"
      ],
      "execution_count": null,
      "outputs": [
        {
          "output_type": "execute_result",
          "data": {
            "application/vnd.google.colaboratory.intrinsic+json": {
              "type": "string"
            },
            "text/plain": [
              "'liný'"
            ]
          },
          "metadata": {
            "tags": []
          },
          "execution_count": 4
        }
      ]
    },
    {
      "cell_type": "code",
      "metadata": {
        "id": "Tq_qvIb23h4k"
      },
      "source": [
        "import pandas as pd\n",
        "\n",
        "slovnik = {}\n",
        "jmeno_souboru = input(\"Zadej jmeno souboru: \")\n",
        "while True: #Nekonecna smycka! \n",
        "      dvojice_slov = input(\"Zadej dvojici slov, kterou oddel carkou. Anebo zadej q pro exit\")\n",
        "      if dvojice_slov != \"q\":\n",
        "        klic, hodnotu = dvojice_slov.split(\",\")\n",
        "        slovnik[klic] = hodnotu\n",
        "      else:\n",
        "        break\n",
        "pd.DataFrame(slovnik.items(), columns=[\"anglicky\", \"česky\"]).to_csv(f\"{jmeno_souboru}.csv\")"
      ],
      "execution_count": null,
      "outputs": []
    },
    {
      "cell_type": "code",
      "metadata": {
        "id": "BlEbpB64onCr"
      },
      "source": [
        "slovnik[\"happy\"] = \"štasný\""
      ],
      "execution_count": null,
      "outputs": []
    },
    {
      "cell_type": "code",
      "metadata": {
        "colab": {
          "base_uri": "https://localhost:8080/"
        },
        "id": "KhnQelTJrDpV",
        "outputId": "272b532f-a660-4ae9-af8b-39d0d5f6cfa5"
      },
      "source": [
        "print(slovnik)"
      ],
      "execution_count": null,
      "outputs": [
        {
          "output_type": "stream",
          "text": [
            "{'lazy': 'liný', 'tall': 'vysoký', 'fast': 'rychlý', 'slow': 'pomalý', 'happy': 'štasný'}\n"
          ],
          "name": "stdout"
        }
      ]
    },
    {
      "cell_type": "code",
      "metadata": {
        "id": "hMXYlcEDrKG_"
      },
      "source": [
        "#slovnik jazyků\n",
        "slovnik_jazyku = {}\n"
      ],
      "execution_count": null,
      "outputs": []
    },
    {
      "cell_type": "markdown",
      "metadata": {
        "id": "kgXMEWqmrxUj"
      },
      "source": [
        "While vs for"
      ]
    },
    {
      "cell_type": "code",
      "metadata": {
        "colab": {
          "base_uri": "https://localhost:8080/"
        },
        "id": "AYkj1CrXuOFu",
        "outputId": "5a76b74a-22c6-4961-b373-fab2dd0a0fb8"
      },
      "source": [
        "#[0,1,2,3,4,5,6,7,8,9]\n",
        "range(10) #Pocet vygenerovanych cisel"
      ],
      "execution_count": null,
      "outputs": [
        {
          "output_type": "execute_result",
          "data": {
            "text/plain": [
              "range(0, 10)"
            ]
          },
          "metadata": {
            "tags": []
          },
          "execution_count": 9
        }
      ]
    },
    {
      "cell_type": "code",
      "metadata": {
        "colab": {
          "base_uri": "https://localhost:8080/"
        },
        "id": "Up-zQlZAutEG",
        "outputId": "740a67ff-4e6b-42d7-c31e-cc647d66daf1"
      },
      "source": [
        "\"ahoj,jak se mas?\".split(\",\")"
      ],
      "execution_count": null,
      "outputs": [
        {
          "output_type": "execute_result",
          "data": {
            "text/plain": [
              "['ahoj', 'jak se mas?']"
            ]
          },
          "metadata": {
            "tags": []
          },
          "execution_count": 11
        }
      ]
    },
    {
      "cell_type": "code",
      "metadata": {
        "colab": {
          "base_uri": "https://localhost:8080/"
        },
        "id": "xAPiSzqirgMs",
        "outputId": "7cd5bb1a-1c3c-49f8-8b7c-1fb2352f2f2d"
      },
      "source": [
        "#Udelej 10 opakovani\n",
        "slovnik_jazyku = {}\n",
        "for i in range(10):\n",
        "  klic, hodnota = input(\"Zadej klic a hodnotu, rozdel je pomoci carky!\").split(\",\")\n",
        "  slovnik_jazyku[klic] = hodnota\n",
        "slovnik_jazyku"
      ],
      "execution_count": null,
      "outputs": [
        {
          "output_type": "stream",
          "text": [
            "Zadej klic a hodnotu, rozdel je pomoci carky!a,1\n",
            "Zadej klic a hodnotu, rozdel je pomoci carky!b,2\n",
            "Zadej klic a hodnotu, rozdel je pomoci carky!c,3\n",
            "Zadej klic a hodnotu, rozdel je pomoci carky!d,4\n",
            "Zadej klic a hodnotu, rozdel je pomoci carky!e,5\n",
            "Zadej klic a hodnotu, rozdel je pomoci carky!f,6\n",
            "Zadej klic a hodnotu, rozdel je pomoci carky!g,7\n",
            "Zadej klic a hodnotu, rozdel je pomoci carky!f,8\n",
            "Zadej klic a hodnotu, rozdel je pomoci carky!h,9\n",
            "Zadej klic a hodnotu, rozdel je pomoci carky!i,10\n"
          ],
          "name": "stdout"
        },
        {
          "output_type": "execute_result",
          "data": {
            "text/plain": [
              "{'a': '1',\n",
              " 'b': '2',\n",
              " 'c': '3',\n",
              " 'd': '4',\n",
              " 'e': '5',\n",
              " 'f': '8',\n",
              " 'g': '7',\n",
              " 'h': '9',\n",
              " 'i': '10'}"
            ]
          },
          "metadata": {
            "tags": []
          },
          "execution_count": 12
        }
      ]
    },
    {
      "cell_type": "code",
      "metadata": {
        "id": "y_hlCGLFrtQT"
      },
      "source": [
        "#udelej rizenou smycku\n",
        "slovnik_jazyku = {}\n",
        "while True:\n",
        "  moznost = input(\"Zadej klic a hodnotu, rozdel je pomoci carky! Pokud chce ukoncit zadavani tak zmacni q\")\n",
        "  \n",
        "  if moznost != \"q\":\n",
        "    klic, hodnota = moznost.split(\",\")\n",
        "    slovnik_jazyku[klic] = hodnota\n",
        "  else:\n",
        "    break\n",
        "slovnik_jazyku"
      ],
      "execution_count": null,
      "outputs": []
    },
    {
      "cell_type": "code",
      "metadata": {
        "id": "c5QDxKlHwYCG"
      },
      "source": [
        "#10 lidi jde nakupovat do obchodu a ani jeden nevi co koupi\n",
        "for i in range(10):\n",
        "\n",
        "  while True:\n"
      ],
      "execution_count": null,
      "outputs": []
    },
    {
      "cell_type": "code",
      "metadata": {
        "id": "2vPngZdOx6Da"
      },
      "source": [
        "#Pro vsechny zvirata v zoo udelejme sbirku\n",
        "#for"
      ],
      "execution_count": null,
      "outputs": []
    },
    {
      "cell_type": "code",
      "metadata": {
        "id": "hznbFsR8yKN5"
      },
      "source": [
        "#Dokud nejsem doma nemohu hrat hry\n",
        "#while"
      ],
      "execution_count": null,
      "outputs": []
    },
    {
      "cell_type": "code",
      "metadata": {
        "id": "N4bYA6SwyRFW"
      },
      "source": [
        "#Pro 10 deti udelej to same\n",
        "#for\n",
        "    #Dokud nejsem doma nemohu hrat hry\n",
        "    #while"
      ],
      "execution_count": null,
      "outputs": []
    },
    {
      "cell_type": "code",
      "metadata": {
        "id": "CfQIAdCYw5Td"
      },
      "source": [
        "import string"
      ],
      "execution_count": null,
      "outputs": []
    },
    {
      "cell_type": "code",
      "metadata": {
        "colab": {
          "base_uri": "https://localhost:8080/"
        },
        "id": "2Tp38wHyxGdP",
        "outputId": "0d2579b4-b85c-4f71-e2fa-3314ebc4c2e2"
      },
      "source": [
        "import string\n",
        "\n",
        "slovnik_pismeno_na_binarku = {}\n",
        "for pismeno in string.ascii_letters:\n",
        "  bin_orava = bin(ord(pismeno))\n",
        "  hodnota = bin_orava[0] + bin_orava[2:]\n",
        "  slovnik_pismeno_na_binarku[pismeno] = hodnota \n",
        "print(slovnik_pismeno_na_binarku)"
      ],
      "execution_count": null,
      "outputs": [
        {
          "output_type": "stream",
          "text": [
            "{'a': '01100001', 'b': '01100010', 'c': '01100011', 'd': '01100100', 'e': '01100101', 'f': '01100110', 'g': '01100111', 'h': '01101000', 'i': '01101001', 'j': '01101010', 'k': '01101011', 'l': '01101100', 'm': '01101101', 'n': '01101110', 'o': '01101111', 'p': '01110000', 'q': '01110001', 'r': '01110010', 's': '01110011', 't': '01110100', 'u': '01110101', 'v': '01110110', 'w': '01110111', 'x': '01111000', 'y': '01111001', 'z': '01111010', 'A': '01000001', 'B': '01000010', 'C': '01000011', 'D': '01000100', 'E': '01000101', 'F': '01000110', 'G': '01000111', 'H': '01001000', 'I': '01001001', 'J': '01001010', 'K': '01001011', 'L': '01001100', 'M': '01001101', 'N': '01001110', 'O': '01001111', 'P': '01010000', 'Q': '01010001', 'R': '01010010', 'S': '01010011', 'T': '01010100', 'U': '01010101', 'V': '01010110', 'W': '01010111', 'X': '01011000', 'Y': '01011001', 'Z': '01011010'}\n"
          ],
          "name": "stdout"
        }
      ]
    },
    {
      "cell_type": "code",
      "metadata": {
        "colab": {
          "base_uri": "https://localhost:8080/"
        },
        "id": "FCsth4eW1LUL",
        "outputId": "f002fa5b-881f-4f2d-ac57-6c31bf3baa28"
      },
      "source": [
        "slovnik_binarka_na_pismena = {}\n",
        "for pismeno in string.ascii_letters:\n",
        "  bin_oprava = bin(ord(pismeno))\n",
        "  slovnik_binarka_na_pismena[bin_oprava[0] + bin_oprava[2:]] = pismeno\n",
        "slovnik_binarka_na_pismena"
      ],
      "execution_count": null,
      "outputs": [
        {
          "output_type": "execute_result",
          "data": {
            "text/plain": [
              "{'01000001': 'A',\n",
              " '01000010': 'B',\n",
              " '01000011': 'C',\n",
              " '01000100': 'D',\n",
              " '01000101': 'E',\n",
              " '01000110': 'F',\n",
              " '01000111': 'G',\n",
              " '01001000': 'H',\n",
              " '01001001': 'I',\n",
              " '01001010': 'J',\n",
              " '01001011': 'K',\n",
              " '01001100': 'L',\n",
              " '01001101': 'M',\n",
              " '01001110': 'N',\n",
              " '01001111': 'O',\n",
              " '01010000': 'P',\n",
              " '01010001': 'Q',\n",
              " '01010010': 'R',\n",
              " '01010011': 'S',\n",
              " '01010100': 'T',\n",
              " '01010101': 'U',\n",
              " '01010110': 'V',\n",
              " '01010111': 'W',\n",
              " '01011000': 'X',\n",
              " '01011001': 'Y',\n",
              " '01011010': 'Z',\n",
              " '01100001': 'a',\n",
              " '01100010': 'b',\n",
              " '01100011': 'c',\n",
              " '01100100': 'd',\n",
              " '01100101': 'e',\n",
              " '01100110': 'f',\n",
              " '01100111': 'g',\n",
              " '01101000': 'h',\n",
              " '01101001': 'i',\n",
              " '01101010': 'j',\n",
              " '01101011': 'k',\n",
              " '01101100': 'l',\n",
              " '01101101': 'm',\n",
              " '01101110': 'n',\n",
              " '01101111': 'o',\n",
              " '01110000': 'p',\n",
              " '01110001': 'q',\n",
              " '01110010': 'r',\n",
              " '01110011': 's',\n",
              " '01110100': 't',\n",
              " '01110101': 'u',\n",
              " '01110110': 'v',\n",
              " '01110111': 'w',\n",
              " '01111000': 'x',\n",
              " '01111001': 'y',\n",
              " '01111010': 'z'}"
            ]
          },
          "metadata": {
            "tags": []
          },
          "execution_count": 16
        }
      ]
    },
    {
      "cell_type": "code",
      "metadata": {
        "id": "OxRonDBfylDn"
      },
      "source": [
        "{'A': '01000001',\n",
        " 'B': '01000010',\n",
        " 'C': '01000011',\n",
        " 'D': '01000100',\n",
        " 'E': '01000101',\n",
        " 'F': '01000110',\n",
        " 'G': '01000111',\n",
        " 'H': '01001000',\n",
        " 'I': '01001001',\n",
        " 'J': '01001010',\n",
        " 'K': '01001011',\n",
        " 'L': '01001100',\n",
        " 'M': '01001101',\n",
        " 'N': '01001110',\n",
        " 'O': '01001111',\n",
        " 'P': '01010000',\n",
        " 'Q': '01010001',\n",
        " 'R': '01010010',\n",
        " 'S': '01010011',\n",
        " 'T': '01010100',\n",
        " 'U': '01010101',\n",
        " 'V': '01010110',\n",
        " 'W': '01010111',\n",
        " 'X': '01011000',\n",
        " 'Y': '01011001',\n",
        " 'Z': '01011010',\n",
        " 'a': '01100001',\n",
        " 'b': '01100010',\n",
        " 'c': '01100011',\n",
        " 'd': '01100100',\n",
        " 'e': '01100101',\n",
        " 'f': '01100110',\n",
        " 'g': '01100111',\n",
        " 'h': '01101000',\n",
        " 'i': '01101001',\n",
        " 'j': '01101010',\n",
        " 'k': '01101011',\n",
        " 'l': '01101100',\n",
        " 'm': '01101101',\n",
        " 'n': '01101110',\n",
        " 'o': '01101111',\n",
        " 'p': '01110000',\n",
        " 'q': '01110001',\n",
        " 'r': '01110010',\n",
        " 's': '01110011',\n",
        " 't': '01110100',\n",
        " 'u': '01110101',\n",
        " 'v': '01110110',\n",
        " 'w': '01110111',\n",
        " 'x': '01111000',\n",
        " 'y': '01111001',\n",
        " 'z': '01111010'}"
      ],
      "execution_count": null,
      "outputs": []
    },
    {
      "cell_type": "code",
      "metadata": {
        "colab": {
          "base_uri": "https://localhost:8080/",
          "height": 35
        },
        "id": "KUEoqnsy4TYa",
        "outputId": "27c410c8-d5e5-46ef-bc3c-72583449104a"
      },
      "source": [
        "#Vypis slovo pozadu\n",
        "\"Python\"[::-1]"
      ],
      "execution_count": null,
      "outputs": [
        {
          "output_type": "execute_result",
          "data": {
            "application/vnd.google.colaboratory.intrinsic+json": {
              "type": "string"
            },
            "text/plain": [
              "'nohtyP'"
            ]
          },
          "metadata": {
            "tags": []
          },
          "execution_count": 24
        }
      ]
    }
  ]
}