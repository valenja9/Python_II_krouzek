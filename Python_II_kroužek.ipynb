{
  "nbformat": 4,
  "nbformat_minor": 0,
  "metadata": {
    "colab": {
      "name": "Python_II_kroužek.ipynb",
      "provenance": [],
      "include_colab_link": true
    },
    "kernelspec": {
      "name": "python3",
      "display_name": "Python 3"
    }
  },
  "cells": [
    {
      "cell_type": "markdown",
      "metadata": {
        "id": "view-in-github",
        "colab_type": "text"
      },
      "source": [
        "<a href=\"https://colab.research.google.com/github/valenja9/Python_II_krouzek/blob/main/Python_II_krou%C5%BEek.ipynb\" target=\"_parent\"><img src=\"https://colab.research.google.com/assets/colab-badge.svg\" alt=\"Open In Colab\"/></a>"
      ]
    },
    {
      "cell_type": "markdown",
      "metadata": {
        "id": "B3U-_UwpzhAA"
      },
      "source": [
        "# Sečti všechna čísla"
      ]
    },
    {
      "cell_type": "markdown",
      "metadata": {
        "id": "W1SxFPTI2388"
      },
      "source": [
        ""
      ]
    },
    {
      "cell_type": "code",
      "metadata": {
        "colab": {
          "base_uri": "https://localhost:8080/"
        },
        "id": "Qd_yi4KzzRuK",
        "outputId": "83953a15-8335-4f0c-b60a-30d1e02b5f80"
      },
      "source": [
        "# soucet vsech cisel\r\n",
        "list_cisel = [4, 6, 8, 14, 900]\r\n",
        "print(sum(list_cisel))"
      ],
      "execution_count": null,
      "outputs": [
        {
          "output_type": "stream",
          "text": [
            "932\n"
          ],
          "name": "stdout"
        }
      ]
    },
    {
      "cell_type": "code",
      "metadata": {
        "colab": {
          "base_uri": "https://localhost:8080/"
        },
        "id": "a4q3ppz302t0",
        "outputId": "5d477104-6882-4c26-fba6-928ea9967a52"
      },
      "source": [
        "# soucet vsech cisel\r\n",
        "list_cisel = [4, 6, 8, 14, 900]\r\n",
        "def secti_seznam(seznam:list) -> int:\r\n",
        "  \"\"\"Funkce secte vsechna cisla\"\"\"\r\n",
        "  soucet = 0\r\n",
        "  for prvek in seznam:\r\n",
        "    soucet += prvek\r\n",
        "  return soucet \r\n",
        "print(secti_seznam(list_cisel))"
      ],
      "execution_count": null,
      "outputs": [
        {
          "output_type": "stream",
          "text": [
            "932\n"
          ],
          "name": "stdout"
        }
      ]
    },
    {
      "cell_type": "code",
      "metadata": {
        "colab": {
          "base_uri": "https://localhost:8080/"
        },
        "id": "mwbK1Lzj1ef3",
        "outputId": "03c9dead-cf2f-494c-eb83-9b5b19133f20"
      },
      "source": [
        "def secti_prvky(cisla):\r\n",
        "  soucet = 0\r\n",
        "  for prvek in cisla:\r\n",
        "      soucet += prvek\r\n",
        "  return soucet\r\n",
        "\r\n",
        "print(secti_prvky(list_cisel))"
      ],
      "execution_count": null,
      "outputs": [
        {
          "output_type": "stream",
          "text": [
            "932\n"
          ],
          "name": "stdout"
        }
      ]
    },
    {
      "cell_type": "code",
      "metadata": {
        "id": "_IT8yqbf0NK6"
      },
      "source": [
        "#Secti vsechna cisla v listu\r\n",
        "list_znaku_a_cisel = [4, 6, 8, 14, 900, \"5\", \"ahoj\", 34, True, \"ddjj5\"]"
      ],
      "execution_count": null,
      "outputs": []
    },
    {
      "cell_type": "code",
      "metadata": {
        "colab": {
          "base_uri": "https://localhost:8080/"
        },
        "id": "ikc1YAAqwWFH",
        "outputId": "1b12699e-64ae-4c36-983c-c73ce07f25c6"
      },
      "source": [
        "int(list_znaku_a_cisel[8])"
      ],
      "execution_count": null,
      "outputs": [
        {
          "output_type": "execute_result",
          "data": {
            "text/plain": [
              "1"
            ]
          },
          "metadata": {
            "tags": []
          },
          "execution_count": 19
        }
      ]
    },
    {
      "cell_type": "code",
      "metadata": {
        "colab": {
          "base_uri": "https://localhost:8080/"
        },
        "id": "BeuBFucovrjH",
        "outputId": "f1560651-2008-4647-b363-ab00123029d8"
      },
      "source": [
        "sum(list_znaku_a_cisel[:5]) + int(list_znaku_a_cisel[5]) + int(list_znaku_a_cisel[7]) + int(list_znaku_a_cisel[8])"
      ],
      "execution_count": null,
      "outputs": [
        {
          "output_type": "execute_result",
          "data": {
            "text/plain": [
              "972"
            ]
          },
          "metadata": {
            "tags": []
          },
          "execution_count": 21
        }
      ]
    },
    {
      "cell_type": "code",
      "metadata": {
        "colab": {
          "base_uri": "https://localhost:8080/"
        },
        "id": "iaGhsT4X33tY",
        "outputId": "e753cfc2-5a4d-4ec8-b807-84c0e89b0578"
      },
      "source": [
        "vysledek = 0\r\n",
        "for prvek1 in list_znaku_a_cisel:\r\n",
        "  for prvek2 in str(prvek1):\r\n",
        "    if str(prvek1).isnumeric():\r\n",
        "      vysledek += int(prvek1)\r\n",
        "      break\r\n",
        "    elif str(prvek2).isnumeric():\r\n",
        "      vysledek += int(prvek2) \r\n",
        "print(vysledek)      "
      ],
      "execution_count": null,
      "outputs": [
        {
          "output_type": "stream",
          "text": [
            "976\n"
          ],
          "name": "stdout"
        }
      ]
    },
    {
      "cell_type": "code",
      "metadata": {
        "id": "hGU1cg6w4dFe"
      },
      "source": [
        "list_znaku_a_cisel = [4, 6, 8, 14, 900, \"5\", \"ahoj\", 34, True, \"ddjj5\", [\"5\", 7, True, \"ddh5\"]]\r\n",
        "\r\n",
        "\r\n",
        "def najdi_cisla(seznam:list) -> int:\r\n",
        "  \"\"\"Funcke secte vsechna cisla, ktera najde\"\"\"\r\n",
        "  celkova_suma = 0\r\n",
        "  for char in seznam:\r\n",
        "    if type(char) == int:\r\n",
        "      celkova_suma += char\r\n",
        "    elif type(char) == str:\r\n",
        "      for ch in list(char):\r\n",
        "        if ch.isdecimal():\r\n",
        "           celkova_suma += int(ch)\r\n",
        "    elif type(char) == bool and bool(char)== True:\r\n",
        "      celkova_suma +=1\r\n",
        "  return celkova_suma\r\n"
      ],
      "execution_count": null,
      "outputs": []
    },
    {
      "cell_type": "code",
      "metadata": {
        "colab": {
          "base_uri": "https://localhost:8080/"
        },
        "id": "fW4-3gZF5A29",
        "outputId": "3fa80900-4b78-46e7-c9f5-e0d16550bd17"
      },
      "source": [
        "najdi_cisla(list_znaku_a_cisel)"
      ],
      "execution_count": null,
      "outputs": [
        {
          "output_type": "execute_result",
          "data": {
            "text/plain": [
              "977"
            ]
          },
          "metadata": {
            "tags": []
          },
          "execution_count": 29
        }
      ]
    },
    {
      "cell_type": "code",
      "metadata": {
        "id": "dNcjWing-YVA"
      },
      "source": [
        "list_znaku_a_cisel = [4, 6, 8, 14, 900, \"5\", \"ahoj\", 34, True, \"ddjj5\", [\"5\", 7, True, \"ddh5\"]]\r\n",
        "\r\n",
        "\r\n",
        "def najdi_cisla(seznam:list) -> int:\r\n",
        "  \"\"\"Funcke secte vsechna cisla, ktera najde\"\"\"\r\n",
        "  celkova_suma = 0\r\n",
        "  for char in seznam:\r\n",
        "    if type(char) == int:\r\n",
        "      celkova_suma += char\r\n",
        "    elif type(char) == str:\r\n",
        "      for ch in list(char):\r\n",
        "        if ch.isdecimal():\r\n",
        "           celkova_suma += int(ch)\r\n",
        "    elif type(char) == bool and bool(char)== True:\r\n",
        "      celkova_suma +=1\r\n",
        "      print(celkova_suma)\r\n",
        "\r\n",
        "    elif type(char) == list:\r\n",
        "      for ch in char:\r\n",
        "        if str(ch).isdecimal():\r\n",
        "          celkova_suma += int(ch) \r\n",
        "  return celkova_suma\r\n",
        "  najdi_cisla(list_znaku_a_cisel)"
      ],
      "execution_count": null,
      "outputs": []
    },
    {
      "cell_type": "code",
      "metadata": {
        "colab": {
          "base_uri": "https://localhost:8080/"
        },
        "id": "tteU_-qz-wcu",
        "outputId": "20fad9fe-18f8-48b3-c00d-5fa6dd0f6f3c"
      },
      "source": [
        "list_znaku_a_cisel = [4, 6, 8, 14, 900, \"5\", \"ahoj\", 34, True, \"ddjj5\", [\"5\", 7, True, \"ddh5\"]]\r\n",
        "\r\n",
        "\r\n",
        "def najdi_cisla(seznam:list) -> int:\r\n",
        "  \"\"\"Funcke secte vsechna cisla, ktera najde\"\"\"\r\n",
        "  celkova_suma = 0\r\n",
        "  for char in seznam:\r\n",
        "    if type(char) == int:\r\n",
        "      celkova_suma += char\r\n",
        "    elif type(char) == str:\r\n",
        "      for ch in list(char):\r\n",
        "        if ch.isdecimal():\r\n",
        "           celkova_suma += int(ch)\r\n",
        "    elif type(char) == bool and bool(char)== True:\r\n",
        "      celkova_suma +=1\r\n",
        "    elif type(char) == list:\r\n",
        "      celkova_suma += najdi_cisla(char) #volam stejnou funkci\r\n",
        "  return celkova_suma\r\n",
        "\r\n",
        "print(najdi_cisla(list_znaku_a_cisel))"
      ],
      "execution_count": null,
      "outputs": [
        {
          "output_type": "stream",
          "text": [
            "995\n"
          ],
          "name": "stdout"
        }
      ]
    },
    {
      "cell_type": "code",
      "metadata": {
        "colab": {
          "base_uri": "https://localhost:8080/"
        },
        "id": "dpJ4gcZ39uW2",
        "outputId": "c3ba683d-929b-4ac7-ff7a-8294a99d34a2"
      },
      "source": [
        "list_znaku_a_cisel = [4, 6, 8, 14, 900, \"5\", \"ahoj\", 34, True, \"ddjj5\", [\"5\", 7, True, \"ddh5\",[\"5\", 7, True, \"ddh5\",[\"5\", 7, True, \"ddh5\"]]]]\r\n",
        "\r\n",
        "def najdi_cisla(seznam:list) -> int:\r\n",
        "  \"\"\"Funcke secte vsechna cisla, ktera najde\"\"\"\r\n",
        "  celkova_suma = 0\r\n",
        "  for char in seznam:\r\n",
        "    if type(char) == int:\r\n",
        "      celkova_suma += char\r\n",
        "    elif type(char) == str:\r\n",
        "      for ch in list(char):\r\n",
        "        if ch.isdecimal():\r\n",
        "           celkova_suma += int(ch)\r\n",
        "    elif type(char) == bool and bool(char)== True:\r\n",
        "      celkova_suma +=1\r\n",
        "    elif type(char) == list:\r\n",
        "      celkova_suma += najdi_cisla(char) #volam stejnou funkci\r\n",
        "  return celkova_suma\r\n",
        "\r\n",
        "print(najdi_cisla(list_znaku_a_cisel))"
      ],
      "execution_count": null,
      "outputs": [
        {
          "output_type": "stream",
          "text": [
            "1031\n"
          ],
          "name": "stdout"
        }
      ]
    },
    {
      "cell_type": "code",
      "metadata": {
        "id": "Q8fTW1D7EbFc"
      },
      "source": [
        "list_znaku_a_cisel = [4, 6, 8, 14, 900, \"5\", \"ahoj\", 34, True, \"ddjj5\", [\"5\", 7, True, \"ddh5\"]]\r\n",
        "vysledek = 0\r\n",
        "for prvek1 in list_znaku_a_cisel:\r\n",
        "  if type(prvek1) == int:\r\n",
        "    vysledek += prvek1\r\n",
        "    print(\"Pricetl jsem \" + str(prvek1))\r\n",
        "  elif type(prvek1) == str:\r\n",
        "    for prvek2 in prvek1:\r\n",
        "      if prvek2.isnumeric():\r\n",
        "        vysledek += int(prvek2)\r\n",
        "        print(\"Pricetl jsem \" + str(prvek2))\r\n",
        "\r\n",
        "  elif type(prvek1) == list:\r\n",
        "    for prvek3 in prvek1:\r\n",
        "      if type(prvek3) == int:\r\n",
        "        vysledek += "
      ],
      "execution_count": null,
      "outputs": []
    },
    {
      "cell_type": "code",
      "metadata": {
        "id": "zu6rYa2yFeRb"
      },
      "source": [
        "def kontrolni_funkce(seznam:list) -> int:\r\n",
        "  vysledek = 0\r\n",
        "  for prvek1 in seznam:\r\n",
        "    if type(prvek1) == int:\r\n",
        "      vysledek += prvek1\r\n",
        "      print(\"Pricetl jsem \" + str(prvek1))\r\n",
        "    elif type(prvek1) == str:\r\n",
        "      for prvek2 in prvek1:\r\n",
        "        if prvek2.isnumeric():\r\n",
        "          vysledek += int(prvek2)\r\n",
        "          print(\"Pricetl jsem \" + str(prvek2))\r\n",
        "    elif type(prvek1) == list:\r\n",
        "      vysledek += kontrolni_funkce(prvek1)\r\n",
        "  return vysledek\r\n",
        "\r\n"
      ],
      "execution_count": null,
      "outputs": []
    },
    {
      "cell_type": "code",
      "metadata": {
        "colab": {
          "base_uri": "https://localhost:8080/"
        },
        "id": "qqYIR5thFYID",
        "outputId": "0377dfe6-27e4-4d2e-8b5d-c4b8542bba58"
      },
      "source": [
        "list_znaku_a_cisel = [4, 6, 8, 14, 900, \"5\", \"ahoj\", 34, True, \"ddjj5\", [\"5\", 7, True, \"ddh5\"]]\r\n",
        "vysledek = kontrolni_funkce(list_znaku_a_cisel)\r\n",
        "print(vysledek)"
      ],
      "execution_count": null,
      "outputs": [
        {
          "output_type": "stream",
          "text": [
            "Pricetl jsem 4\n",
            "Pricetl jsem 6\n",
            "Pricetl jsem 8\n",
            "Pricetl jsem 14\n",
            "Pricetl jsem 900\n",
            "Pricetl jsem 5\n",
            "Pricetl jsem 34\n",
            "Pricetl jsem 5\n",
            "Pricetl jsem 5\n",
            "Pricetl jsem 7\n",
            "Pricetl jsem 5\n",
            "993\n"
          ],
          "name": "stdout"
        }
      ]
    },
    {
      "cell_type": "markdown",
      "metadata": {
        "id": "QN5p6MkkyUDk"
      },
      "source": [
        "# Druha lekce"
      ]
    },
    {
      "cell_type": "code",
      "metadata": {
        "id": "rMvaxtlqFXsB"
      },
      "source": [
        "#Secti cisla i jako jednotlive dvojcisli... trojcisli ....atd\r\n",
        "soucet = 0\r\n",
        "slucovani_cisel = ''\r\n",
        "zadany_str = \"a13b12cd1\"\r\n",
        "for prvek in zadany_str:\r\n",
        "    if prvek.isdigit():\r\n",
        "        slucovani_cisel += prvek\r\n",
        "    else:\r\n",
        "      if len(slucovani_cisel) > 0: \r\n",
        "          soucet += int(slucovani_cisel)\r\n",
        "          slucovani_cisel = ''\r\n",
        "    if zadany_str.index(prvek) == len(zadany_str) -1:\r\n",
        "      soucet += int(prvek)\r\n",
        "print(str(soucet))"
      ],
      "execution_count": null,
      "outputs": []
    },
    {
      "cell_type": "markdown",
      "metadata": {
        "id": "Zjw90d_S3Cs0"
      },
      "source": [
        "# Druha lekce"
      ]
    },
    {
      "cell_type": "code",
      "metadata": {
        "id": "U-cKGYQc3HUC"
      },
      "source": [
        "# Tento list listu, predelali na tuple listu.\r\n",
        "tabulka = [[\"Jmeno\", \"Prijmeni\", \"Vek\"],[\"Petr\",\"Novotny\", 45], [\"Hanka\",\"Bila\", 33], [\"Sabima\",\"Suchanova\", 11]]"
      ],
      "execution_count": null,
      "outputs": []
    },
    {
      "cell_type": "code",
      "metadata": {
        "id": "a3XAaVCB4-di"
      },
      "source": [
        "tabulka[0] = \"Ted uz tam nebude list\""
      ],
      "execution_count": null,
      "outputs": []
    },
    {
      "cell_type": "code",
      "metadata": {
        "colab": {
          "base_uri": "https://localhost:8080/"
        },
        "id": "pn_2nZVG5Smv",
        "outputId": "8f32301b-9dad-4d16-ba11-897d42cbc146"
      },
      "source": [
        "tabulka"
      ],
      "execution_count": null,
      "outputs": [
        {
          "output_type": "execute_result",
          "data": {
            "text/plain": [
              "['Ted uz tam nebude list',\n",
              " ['Petr', 'Novotny', 45],\n",
              " ['Hanka', 'Bila', 33],\n",
              " ['Sabima', 'Suchanova', 11]]"
            ]
          },
          "metadata": {
            "tags": []
          },
          "execution_count": 9
        }
      ]
    },
    {
      "cell_type": "code",
      "metadata": {
        "id": "mBBaNH3H4VAG"
      },
      "source": [
        "tohle_je_tuple = (\"Jakub\", \"Martin\", \"Vojta\")"
      ],
      "execution_count": null,
      "outputs": []
    },
    {
      "cell_type": "code",
      "metadata": {
        "colab": {
          "base_uri": "https://localhost:8080/",
          "height": 35
        },
        "id": "0ReXAbE64hCW",
        "outputId": "a9246f28-1a74-49e3-c0e3-4857e1945f0d"
      },
      "source": [
        "tohle_je_tuple[0]"
      ],
      "execution_count": null,
      "outputs": [
        {
          "output_type": "execute_result",
          "data": {
            "application/vnd.google.colaboratory.intrinsic+json": {
              "type": "string"
            },
            "text/plain": [
              "'Jakub'"
            ]
          },
          "metadata": {
            "tags": []
          },
          "execution_count": 3
        }
      ]
    },
    {
      "cell_type": "code",
      "metadata": {
        "colab": {
          "base_uri": "https://localhost:8080/",
          "height": 166
        },
        "id": "co1D7O4Q4p0a",
        "outputId": "3322af1a-ff28-4f92-9fb2-16899ea4b94d"
      },
      "source": [
        "tohle_je_tuple[0] = \"Petra\""
      ],
      "execution_count": null,
      "outputs": [
        {
          "output_type": "error",
          "ename": "TypeError",
          "evalue": "ignored",
          "traceback": [
            "\u001b[0;31m---------------------------------------------------------------------------\u001b[0m",
            "\u001b[0;31mTypeError\u001b[0m                                 Traceback (most recent call last)",
            "\u001b[0;32m<ipython-input-4-33ac3a77a5a3>\u001b[0m in \u001b[0;36m<module>\u001b[0;34m()\u001b[0m\n\u001b[0;32m----> 1\u001b[0;31m \u001b[0mtohle_je_tuple\u001b[0m\u001b[0;34m[\u001b[0m\u001b[0;36m0\u001b[0m\u001b[0;34m]\u001b[0m \u001b[0;34m=\u001b[0m \u001b[0;34m\"Petra\"\u001b[0m\u001b[0;34m\u001b[0m\u001b[0;34m\u001b[0m\u001b[0m\n\u001b[0m",
            "\u001b[0;31mTypeError\u001b[0m: 'tuple' object does not support item assignment"
          ]
        }
      ]
    },
    {
      "cell_type": "markdown",
      "metadata": {
        "id": "ldPbuFK67Qrx"
      },
      "source": [
        "# Jak na range?"
      ]
    },
    {
      "cell_type": "code",
      "metadata": {
        "colab": {
          "base_uri": "https://localhost:8080/"
        },
        "id": "0sdquevg5_xp",
        "outputId": "458122ce-f89e-442b-c64a-dd6b420d443e"
      },
      "source": [
        "list(range(3,6,2))"
      ],
      "execution_count": null,
      "outputs": [
        {
          "output_type": "execute_result",
          "data": {
            "text/plain": [
              "[3, 5]"
            ]
          },
          "metadata": {
            "tags": []
          },
          "execution_count": 23
        }
      ]
    },
    {
      "cell_type": "code",
      "metadata": {
        "colab": {
          "base_uri": "https://localhost:8080/"
        },
        "id": "7dHOyL5Y7gH5",
        "outputId": "ad22aee8-af4f-498e-a631-8a334c6442f7"
      },
      "source": [
        "tisic_cisel = []\r\n",
        "for i in range(1,1001):\r\n",
        "  tisic_cisel.append(i)\r\n",
        "print(tisic_cisel) "
      ],
      "execution_count": null,
      "outputs": [
        {
          "output_type": "stream",
          "text": [
            "[1, 2, 3, 4, 5, 6, 7, 8, 9, 10, 11, 12, 13, 14, 15, 16, 17, 18, 19, 20, 21, 22, 23, 24, 25, 26, 27, 28, 29, 30, 31, 32, 33, 34, 35, 36, 37, 38, 39, 40, 41, 42, 43, 44, 45, 46, 47, 48, 49, 50, 51, 52, 53, 54, 55, 56, 57, 58, 59, 60, 61, 62, 63, 64, 65, 66, 67, 68, 69, 70, 71, 72, 73, 74, 75, 76, 77, 78, 79, 80, 81, 82, 83, 84, 85, 86, 87, 88, 89, 90, 91, 92, 93, 94, 95, 96, 97, 98, 99, 100, 101, 102, 103, 104, 105, 106, 107, 108, 109, 110, 111, 112, 113, 114, 115, 116, 117, 118, 119, 120, 121, 122, 123, 124, 125, 126, 127, 128, 129, 130, 131, 132, 133, 134, 135, 136, 137, 138, 139, 140, 141, 142, 143, 144, 145, 146, 147, 148, 149, 150, 151, 152, 153, 154, 155, 156, 157, 158, 159, 160, 161, 162, 163, 164, 165, 166, 167, 168, 169, 170, 171, 172, 173, 174, 175, 176, 177, 178, 179, 180, 181, 182, 183, 184, 185, 186, 187, 188, 189, 190, 191, 192, 193, 194, 195, 196, 197, 198, 199, 200, 201, 202, 203, 204, 205, 206, 207, 208, 209, 210, 211, 212, 213, 214, 215, 216, 217, 218, 219, 220, 221, 222, 223, 224, 225, 226, 227, 228, 229, 230, 231, 232, 233, 234, 235, 236, 237, 238, 239, 240, 241, 242, 243, 244, 245, 246, 247, 248, 249, 250, 251, 252, 253, 254, 255, 256, 257, 258, 259, 260, 261, 262, 263, 264, 265, 266, 267, 268, 269, 270, 271, 272, 273, 274, 275, 276, 277, 278, 279, 280, 281, 282, 283, 284, 285, 286, 287, 288, 289, 290, 291, 292, 293, 294, 295, 296, 297, 298, 299, 300, 301, 302, 303, 304, 305, 306, 307, 308, 309, 310, 311, 312, 313, 314, 315, 316, 317, 318, 319, 320, 321, 322, 323, 324, 325, 326, 327, 328, 329, 330, 331, 332, 333, 334, 335, 336, 337, 338, 339, 340, 341, 342, 343, 344, 345, 346, 347, 348, 349, 350, 351, 352, 353, 354, 355, 356, 357, 358, 359, 360, 361, 362, 363, 364, 365, 366, 367, 368, 369, 370, 371, 372, 373, 374, 375, 376, 377, 378, 379, 380, 381, 382, 383, 384, 385, 386, 387, 388, 389, 390, 391, 392, 393, 394, 395, 396, 397, 398, 399, 400, 401, 402, 403, 404, 405, 406, 407, 408, 409, 410, 411, 412, 413, 414, 415, 416, 417, 418, 419, 420, 421, 422, 423, 424, 425, 426, 427, 428, 429, 430, 431, 432, 433, 434, 435, 436, 437, 438, 439, 440, 441, 442, 443, 444, 445, 446, 447, 448, 449, 450, 451, 452, 453, 454, 455, 456, 457, 458, 459, 460, 461, 462, 463, 464, 465, 466, 467, 468, 469, 470, 471, 472, 473, 474, 475, 476, 477, 478, 479, 480, 481, 482, 483, 484, 485, 486, 487, 488, 489, 490, 491, 492, 493, 494, 495, 496, 497, 498, 499, 500, 501, 502, 503, 504, 505, 506, 507, 508, 509, 510, 511, 512, 513, 514, 515, 516, 517, 518, 519, 520, 521, 522, 523, 524, 525, 526, 527, 528, 529, 530, 531, 532, 533, 534, 535, 536, 537, 538, 539, 540, 541, 542, 543, 544, 545, 546, 547, 548, 549, 550, 551, 552, 553, 554, 555, 556, 557, 558, 559, 560, 561, 562, 563, 564, 565, 566, 567, 568, 569, 570, 571, 572, 573, 574, 575, 576, 577, 578, 579, 580, 581, 582, 583, 584, 585, 586, 587, 588, 589, 590, 591, 592, 593, 594, 595, 596, 597, 598, 599, 600, 601, 602, 603, 604, 605, 606, 607, 608, 609, 610, 611, 612, 613, 614, 615, 616, 617, 618, 619, 620, 621, 622, 623, 624, 625, 626, 627, 628, 629, 630, 631, 632, 633, 634, 635, 636, 637, 638, 639, 640, 641, 642, 643, 644, 645, 646, 647, 648, 649, 650, 651, 652, 653, 654, 655, 656, 657, 658, 659, 660, 661, 662, 663, 664, 665, 666, 667, 668, 669, 670, 671, 672, 673, 674, 675, 676, 677, 678, 679, 680, 681, 682, 683, 684, 685, 686, 687, 688, 689, 690, 691, 692, 693, 694, 695, 696, 697, 698, 699, 700, 701, 702, 703, 704, 705, 706, 707, 708, 709, 710, 711, 712, 713, 714, 715, 716, 717, 718, 719, 720, 721, 722, 723, 724, 725, 726, 727, 728, 729, 730, 731, 732, 733, 734, 735, 736, 737, 738, 739, 740, 741, 742, 743, 744, 745, 746, 747, 748, 749, 750, 751, 752, 753, 754, 755, 756, 757, 758, 759, 760, 761, 762, 763, 764, 765, 766, 767, 768, 769, 770, 771, 772, 773, 774, 775, 776, 777, 778, 779, 780, 781, 782, 783, 784, 785, 786, 787, 788, 789, 790, 791, 792, 793, 794, 795, 796, 797, 798, 799, 800, 801, 802, 803, 804, 805, 806, 807, 808, 809, 810, 811, 812, 813, 814, 815, 816, 817, 818, 819, 820, 821, 822, 823, 824, 825, 826, 827, 828, 829, 830, 831, 832, 833, 834, 835, 836, 837, 838, 839, 840, 841, 842, 843, 844, 845, 846, 847, 848, 849, 850, 851, 852, 853, 854, 855, 856, 857, 858, 859, 860, 861, 862, 863, 864, 865, 866, 867, 868, 869, 870, 871, 872, 873, 874, 875, 876, 877, 878, 879, 880, 881, 882, 883, 884, 885, 886, 887, 888, 889, 890, 891, 892, 893, 894, 895, 896, 897, 898, 899, 900, 901, 902, 903, 904, 905, 906, 907, 908, 909, 910, 911, 912, 913, 914, 915, 916, 917, 918, 919, 920, 921, 922, 923, 924, 925, 926, 927, 928, 929, 930, 931, 932, 933, 934, 935, 936, 937, 938, 939, 940, 941, 942, 943, 944, 945, 946, 947, 948, 949, 950, 951, 952, 953, 954, 955, 956, 957, 958, 959, 960, 961, 962, 963, 964, 965, 966, 967, 968, 969, 970, 971, 972, 973, 974, 975, 976, 977, 978, 979, 980, 981, 982, 983, 984, 985, 986, 987, 988, 989, 990, 991, 992, 993, 994, 995, 996, 997, 998, 999, 1000]\n"
          ],
          "name": "stdout"
        }
      ]
    },
    {
      "cell_type": "code",
      "metadata": {
        "id": "RiG_5zSd7_f9"
      },
      "source": [
        "tisic_cisel = []"
      ],
      "execution_count": null,
      "outputs": []
    },
    {
      "cell_type": "code",
      "metadata": {
        "colab": {
          "base_uri": "https://localhost:8080/"
        },
        "id": "h5QKz8Tt8DfD",
        "outputId": "6d330d5e-a55f-456f-f431-847fcd00b738"
      },
      "source": [
        "type(tisic_cisel)"
      ],
      "execution_count": null,
      "outputs": [
        {
          "output_type": "execute_result",
          "data": {
            "text/plain": [
              "list"
            ]
          },
          "metadata": {
            "tags": []
          },
          "execution_count": 25
        }
      ]
    },
    {
      "cell_type": "code",
      "metadata": {
        "colab": {
          "base_uri": "https://localhost:8080/"
        },
        "id": "2-r3wKbN8SUI",
        "outputId": "033fea96-a4a8-4377-ef25-8ef59f55b6f4"
      },
      "source": [
        "dir(tisic_cisel)"
      ],
      "execution_count": null,
      "outputs": [
        {
          "output_type": "execute_result",
          "data": {
            "text/plain": [
              "['__add__',\n",
              " '__class__',\n",
              " '__contains__',\n",
              " '__delattr__',\n",
              " '__delitem__',\n",
              " '__dir__',\n",
              " '__doc__',\n",
              " '__eq__',\n",
              " '__format__',\n",
              " '__ge__',\n",
              " '__getattribute__',\n",
              " '__getitem__',\n",
              " '__gt__',\n",
              " '__hash__',\n",
              " '__iadd__',\n",
              " '__imul__',\n",
              " '__init__',\n",
              " '__init_subclass__',\n",
              " '__iter__',\n",
              " '__le__',\n",
              " '__len__',\n",
              " '__lt__',\n",
              " '__mul__',\n",
              " '__ne__',\n",
              " '__new__',\n",
              " '__reduce__',\n",
              " '__reduce_ex__',\n",
              " '__repr__',\n",
              " '__reversed__',\n",
              " '__rmul__',\n",
              " '__setattr__',\n",
              " '__setitem__',\n",
              " '__sizeof__',\n",
              " '__str__',\n",
              " '__subclasshook__',\n",
              " 'append',\n",
              " 'clear',\n",
              " 'copy',\n",
              " 'count',\n",
              " 'extend',\n",
              " 'index',\n",
              " 'insert',\n",
              " 'pop',\n",
              " 'remove',\n",
              " 'reverse',\n",
              " 'sort']"
            ]
          },
          "metadata": {
            "tags": []
          },
          "execution_count": 26
        }
      ]
    },
    {
      "cell_type": "code",
      "metadata": {
        "id": "mLwqrE288ud-"
      },
      "source": [
        "tisic_cisel.append(\"Baby yoda\")"
      ],
      "execution_count": null,
      "outputs": []
    },
    {
      "cell_type": "code",
      "metadata": {
        "colab": {
          "base_uri": "https://localhost:8080/"
        },
        "id": "qcXQtuK0860t",
        "outputId": "8fa35194-0707-46b2-a7b5-f44cc3182205"
      },
      "source": [
        "print(tisic_cisel)"
      ],
      "execution_count": null,
      "outputs": [
        {
          "output_type": "stream",
          "text": [
            "[]\n"
          ],
          "name": "stdout"
        }
      ]
    },
    {
      "cell_type": "code",
      "metadata": {
        "id": "qkRCQ-cG8-4M"
      },
      "source": [
        "tisic_cisel.remove(\"Baby yoda\")"
      ],
      "execution_count": null,
      "outputs": []
    },
    {
      "cell_type": "code",
      "metadata": {
        "id": "BX6rmnNX9amW"
      },
      "source": [
        "#seradte postupne cisla. \r\n",
        "list_cisel = [9,6,8,1,9,0,2]"
      ],
      "execution_count": null,
      "outputs": []
    },
    {
      "cell_type": "code",
      "metadata": {
        "id": "UVcbMavv9_ZL"
      },
      "source": [
        "#Seradit\r\n",
        "list_cisel = [9,6,8,1,9,0,2]\r\n",
        "list_cisel.sort()\r\n",
        "print(list_cisel)"
      ],
      "execution_count": null,
      "outputs": []
    },
    {
      "cell_type": "markdown",
      "metadata": {
        "id": "DJAqxtdN7WA-"
      },
      "source": [
        "# List se da menit!"
      ]
    },
    {
      "cell_type": "code",
      "metadata": {
        "id": "2wcUMyfl4pu7"
      },
      "source": [
        "list_jmen = [\"Jakub\", \"Martin\", \"Vojta\"]\r\n",
        "for index in range(len(list_jmen)):\r\n",
        "  list_jmen[index] = \"Nic tu neni\""
      ],
      "execution_count": null,
      "outputs": []
    },
    {
      "cell_type": "code",
      "metadata": {
        "colab": {
          "base_uri": "https://localhost:8080/"
        },
        "id": "10mU6rXH6Uez",
        "outputId": "2c5d0082-cc55-419c-fc54-d6f41d3a7412"
      },
      "source": [
        "list_jmen"
      ],
      "execution_count": null,
      "outputs": [
        {
          "output_type": "execute_result",
          "data": {
            "text/plain": [
              "['Nic tu neni', 'Nic tu neni', 'Nic tu neni']"
            ]
          },
          "metadata": {
            "tags": []
          },
          "execution_count": 14
        }
      ]
    },
    {
      "cell_type": "code",
      "metadata": {
        "colab": {
          "base_uri": "https://localhost:8080/"
        },
        "id": "GggwPHmd3mqI",
        "outputId": "c3dfe4d2-4801-4633-99a5-32108bb48011"
      },
      "source": [
        "tuple_listu = tuple(tabulka)\r\n",
        "print(tuple_listu)"
      ],
      "execution_count": null,
      "outputs": [
        {
          "output_type": "stream",
          "text": [
            "(['Jmeno', 'Prijmeni', 'Vek'], ['Petr', 'Novotny', 45], ['Hanka', 'Bila', 33], ['Sabima', 'Suchanova', 11])\n"
          ],
          "name": "stdout"
        }
      ]
    },
    {
      "cell_type": "markdown",
      "metadata": {
        "id": "7RBgrtsI3vKs"
      },
      "source": [
        "#  Jak vytvorit textovy soubor."
      ]
    },
    {
      "cell_type": "code",
      "metadata": {
        "id": "2B5pAUDX35Y6"
      },
      "source": [
        "#Do textove souboru(soubor.txt) uloz nasledujici vetu.\r\n",
        "veta = \"Ahoj, jak se dnes vsichni mate?\"\r\n",
        "jmeno = \"soubor.txt\"\r\n",
        "\r\n",
        "with open(jmeno, mode=\"w\") as file: \r\n",
        "  file.write(veta)"
      ],
      "execution_count": null,
      "outputs": []
    },
    {
      "cell_type": "code",
      "metadata": {
        "id": "pBE2c9gaADp-"
      },
      "source": [
        "my_file = open(\"druhy.txt\", mode=\"w\")\r\n",
        "my_file.write(veta)\r\n",
        "my_file.close()"
      ],
      "execution_count": null,
      "outputs": []
    },
    {
      "cell_type": "code",
      "metadata": {
        "id": "jUoCL5gcA1At"
      },
      "source": [
        "tabulka = [[\"Jmeno\", \"Prijmeni\", \"Vek\"],[\"Petr\",\"Novotny\", 45], [\"Hanka\",\"Bila\", 33], [\"Sabima\",\"Suchanova\", 11]]\r\n",
        "\r\n",
        "jmeno = \"soubor.txt\"\r\n",
        "\r\n",
        "with open(jmeno, mode=\"w\") as file: \r\n",
        "  #dodelej upravu\r\n",
        "  file.write(veta)"
      ],
      "execution_count": null,
      "outputs": []
    },
    {
      "cell_type": "code",
      "metadata": {
        "id": "EPkAHbTmBe2W"
      },
      "source": [
        "tabulka = [[\"Jmeno\", \"Prijmeni\", \"Vek\"],[\"Petr\",\"Novotny\", 45], [\"Hanka\",\"Bila\", 33], [\"Sabima\",\"Suchanova\", 11]]\r\n",
        "my_file = open(\"tabulka.txt\",\"a\")\r\n",
        "for i in tabulka:\r\n",
        "  my_file.write(str(i) + \"\\n\")\r\n",
        "my_file.close()  "
      ],
      "execution_count": null,
      "outputs": []
    },
    {
      "cell_type": "code",
      "metadata": {
        "colab": {
          "base_uri": "https://localhost:8080/"
        },
        "id": "48k3HxmQCli4",
        "outputId": "e04ff4bf-9a43-4c6b-966f-3d4cac33152f"
      },
      "source": [
        "for list_in_list in tabulka:\r\n",
        "  print(list_in_list)"
      ],
      "execution_count": null,
      "outputs": [
        {
          "output_type": "stream",
          "text": [
            "['Jmeno', 'Prijmeni', 'Vek']\n",
            "['Petr', 'Novotny', 45]\n",
            "['Hanka', 'Bila', 33]\n",
            "['Sabima', 'Suchanova', 11]\n"
          ],
          "name": "stdout"
        }
      ]
    },
    {
      "cell_type": "code",
      "metadata": {
        "id": "KnCDA6L_CPSr"
      },
      "source": [
        "tabulka = [[\"Jmeno\", \"Prijmeni\", \"Vek\"],[\"Petr\",\"Novotny\", 45], [\"Hanka\",\"Bila\", 33], [\"Sabima\",\"Suchanova\", 11]]\r\n",
        "with open(\"lospufeekos.txt\", mode=\"w\") as file:\r\n",
        "  for list_in_list in tabulka:\r\n",
        "    file.write(str(list_in_list) + \"\\n\")"
      ],
      "execution_count": null,
      "outputs": []
    },
    {
      "cell_type": "code",
      "metadata": {
        "id": "voKkDRJkDrYq"
      },
      "source": [
        "name = \"Petr\""
      ],
      "execution_count": null,
      "outputs": []
    },
    {
      "cell_type": "code",
      "metadata": {
        "id": "PRdF8fKa7y8k"
      },
      "source": [
        ""
      ],
      "execution_count": null,
      "outputs": []
    },
    {
      "cell_type": "markdown",
      "metadata": {
        "id": "VdQBREx6Lpnd"
      },
      "source": [
        "# Treti krouzek"
      ]
    },
    {
      "cell_type": "code",
      "metadata": {
        "id": "oc7Srg4K3mTq"
      },
      "source": [
        "import requests #Staci dat import a jmeno knihovny\r\n",
        "import json"
      ],
      "execution_count": null,
      "outputs": []
    },
    {
      "cell_type": "code",
      "metadata": {
        "id": "aIBp-0RZ6tcp",
        "colab": {
          "base_uri": "https://localhost:8080/"
        },
        "outputId": "b8384291-7790-484b-eaa6-98501c13141a"
      },
      "source": [
        "dir(requests)"
      ],
      "execution_count": null,
      "outputs": [
        {
          "output_type": "execute_result",
          "data": {
            "text/plain": [
              "['ConnectTimeout',\n",
              " 'ConnectionError',\n",
              " 'DependencyWarning',\n",
              " 'FileModeWarning',\n",
              " 'HTTPError',\n",
              " 'NullHandler',\n",
              " 'PreparedRequest',\n",
              " 'ReadTimeout',\n",
              " 'Request',\n",
              " 'RequestException',\n",
              " 'RequestsDependencyWarning',\n",
              " 'Response',\n",
              " 'Session',\n",
              " 'Timeout',\n",
              " 'TooManyRedirects',\n",
              " 'URLRequired',\n",
              " '__author__',\n",
              " '__author_email__',\n",
              " '__build__',\n",
              " '__builtins__',\n",
              " '__cached__',\n",
              " '__cake__',\n",
              " '__copyright__',\n",
              " '__description__',\n",
              " '__doc__',\n",
              " '__file__',\n",
              " '__license__',\n",
              " '__loader__',\n",
              " '__name__',\n",
              " '__package__',\n",
              " '__path__',\n",
              " '__spec__',\n",
              " '__title__',\n",
              " '__url__',\n",
              " '__version__',\n",
              " '_check_cryptography',\n",
              " '_internal_utils',\n",
              " 'adapters',\n",
              " 'api',\n",
              " 'auth',\n",
              " 'certs',\n",
              " 'chardet',\n",
              " 'check_compatibility',\n",
              " 'codes',\n",
              " 'compat',\n",
              " 'cookies',\n",
              " 'delete',\n",
              " 'exceptions',\n",
              " 'get',\n",
              " 'head',\n",
              " 'hooks',\n",
              " 'logging',\n",
              " 'models',\n",
              " 'options',\n",
              " 'packages',\n",
              " 'patch',\n",
              " 'post',\n",
              " 'put',\n",
              " 'request',\n",
              " 'session',\n",
              " 'sessions',\n",
              " 'status_codes',\n",
              " 'structures',\n",
              " 'urllib3',\n",
              " 'utils',\n",
              " 'warnings']"
            ]
          },
          "metadata": {
            "tags": []
          },
          "execution_count": 2
        }
      ]
    },
    {
      "cell_type": "code",
      "metadata": {
        "id": "6BwnRrkj7vci",
        "colab": {
          "base_uri": "https://localhost:8080/"
        },
        "outputId": "01c29e0e-f050-4ee9-bdf8-4b367eea718c"
      },
      "source": [
        "url = 'http://api.openweathermap.org/data/2.5/weather?q=Brno'\r\n",
        "requests.get(url)"
      ],
      "execution_count": null,
      "outputs": [
        {
          "output_type": "execute_result",
          "data": {
            "text/plain": [
              "<Response [401]>"
            ]
          },
          "metadata": {
            "tags": []
          },
          "execution_count": 3
        }
      ]
    },
    {
      "cell_type": "code",
      "metadata": {
        "id": "gkVdPY5_8dtK",
        "colab": {
          "base_uri": "https://localhost:8080/"
        },
        "outputId": "132f045f-66ad-4e7a-bdea-3cd9aeccefc0"
      },
      "source": [
        "url = 'http://api.openweathermap.org/data/2.5/weather?q=London,uk&APPID=d7fbd888f435c075cdd7d5a28ed0c899'\r\n",
        "data = requests.get(url)\r\n",
        "dir(data)"
      ],
      "execution_count": null,
      "outputs": [
        {
          "output_type": "execute_result",
          "data": {
            "text/plain": [
              "['__attrs__',\n",
              " '__bool__',\n",
              " '__class__',\n",
              " '__delattr__',\n",
              " '__dict__',\n",
              " '__dir__',\n",
              " '__doc__',\n",
              " '__enter__',\n",
              " '__eq__',\n",
              " '__exit__',\n",
              " '__format__',\n",
              " '__ge__',\n",
              " '__getattribute__',\n",
              " '__getstate__',\n",
              " '__gt__',\n",
              " '__hash__',\n",
              " '__init__',\n",
              " '__init_subclass__',\n",
              " '__iter__',\n",
              " '__le__',\n",
              " '__lt__',\n",
              " '__module__',\n",
              " '__ne__',\n",
              " '__new__',\n",
              " '__nonzero__',\n",
              " '__reduce__',\n",
              " '__reduce_ex__',\n",
              " '__repr__',\n",
              " '__setattr__',\n",
              " '__setstate__',\n",
              " '__sizeof__',\n",
              " '__str__',\n",
              " '__subclasshook__',\n",
              " '__weakref__',\n",
              " '_content',\n",
              " '_content_consumed',\n",
              " '_next',\n",
              " 'apparent_encoding',\n",
              " 'close',\n",
              " 'connection',\n",
              " 'content',\n",
              " 'cookies',\n",
              " 'elapsed',\n",
              " 'encoding',\n",
              " 'headers',\n",
              " 'history',\n",
              " 'is_permanent_redirect',\n",
              " 'is_redirect',\n",
              " 'iter_content',\n",
              " 'iter_lines',\n",
              " 'json',\n",
              " 'links',\n",
              " 'next',\n",
              " 'ok',\n",
              " 'raise_for_status',\n",
              " 'raw',\n",
              " 'reason',\n",
              " 'request',\n",
              " 'status_code',\n",
              " 'text',\n",
              " 'url']"
            ]
          },
          "metadata": {
            "tags": []
          },
          "execution_count": 14
        }
      ]
    },
    {
      "cell_type": "code",
      "metadata": {
        "id": "a-i4lvDw_OGJ"
      },
      "source": [
        "data = data.json()"
      ],
      "execution_count": null,
      "outputs": []
    },
    {
      "cell_type": "code",
      "metadata": {
        "id": "3PTCskHS_Bat",
        "colab": {
          "base_uri": "https://localhost:8080/"
        },
        "outputId": "d620d6d8-83bd-4614-c0a4-6f2ba1ca05d8"
      },
      "source": [
        "data.json().keys()"
      ],
      "execution_count": null,
      "outputs": [
        {
          "output_type": "execute_result",
          "data": {
            "text/plain": [
              "dict_keys(['coord', 'weather', 'base', 'main', 'visibility', 'wind', 'clouds', 'dt', 'sys', 'timezone', 'id', 'name', 'cod'])"
            ]
          },
          "metadata": {
            "tags": []
          },
          "execution_count": 17
        }
      ]
    },
    {
      "cell_type": "code",
      "metadata": {
        "id": "xq6gd1CU-q-U"
      },
      "source": [
        ""
      ],
      "execution_count": null,
      "outputs": []
    },
    {
      "cell_type": "code",
      "metadata": {
        "id": "OCuh5_zr910c",
        "colab": {
          "base_uri": "https://localhost:8080/",
          "height": 35
        },
        "outputId": "fc33aa80-7cee-4346-f481-5cc1972120ff"
      },
      "source": [
        "data['weather'][0][\"main\"]"
      ],
      "execution_count": null,
      "outputs": [
        {
          "output_type": "execute_result",
          "data": {
            "application/vnd.google.colaboratory.intrinsic+json": {
              "type": "string"
            },
            "text/plain": [
              "'Clouds'"
            ]
          },
          "metadata": {
            "tags": []
          },
          "execution_count": 21
        }
      ]
    },
    {
      "cell_type": "code",
      "metadata": {
        "id": "QIaF0SeKBPws",
        "colab": {
          "base_uri": "https://localhost:8080/"
        },
        "outputId": "f26c79b1-4681-4ec0-cfa2-2dd3075d5bb0"
      },
      "source": [
        "from datetime import datetime\r\n",
        "\r\n",
        "timestamp = 1545730073\r\n",
        "dt_object = datetime.fromtimestamp(timestamp)\r\n",
        "\r\n",
        "print(\"dt_object =\", dt_object)\r\n"
      ],
      "execution_count": null,
      "outputs": [
        {
          "output_type": "stream",
          "text": [
            "dt_object = 2018-12-25 09:27:53\n"
          ],
          "name": "stdout"
        }
      ]
    },
    {
      "cell_type": "code",
      "metadata": {
        "id": "L_2EPuqmBgJl"
      },
      "source": [
        "import requests #Staci dat import a jmeno knihovny\r\n",
        "import json\r\n",
        "url = 'http://api.openweathermap.org/data/2.5/weather?q=London,uk&APPID=d7fbd888f435c075cdd7d5a28ed0c899'\r\n",
        "data = requests.get(url)\r\n",
        "data = data.json()\r\n",
        "data"
      ],
      "execution_count": null,
      "outputs": []
    },
    {
      "cell_type": "code",
      "metadata": {
        "id": "IehpTK05BlCI",
        "colab": {
          "base_uri": "https://localhost:8080/"
        },
        "outputId": "3d5df50d-0f02-4002-efd2-46a118c75129"
      },
      "source": [
        "data"
      ],
      "execution_count": null,
      "outputs": [
        {
          "output_type": "execute_result",
          "data": {
            "text/plain": [
              "{'base': 'stations',\n",
              " 'clouds': {'all': 75},\n",
              " 'cod': 200,\n",
              " 'coord': {'lat': 51.5085, 'lon': -0.1257},\n",
              " 'dt': 1613397940,\n",
              " 'id': 2643743,\n",
              " 'main': {'feels_like': 281.63,\n",
              "  'humidity': 76,\n",
              "  'pressure': 1018,\n",
              "  'temp': 285.61,\n",
              "  'temp_max': 286.48,\n",
              "  'temp_min': 284.82},\n",
              " 'name': 'London',\n",
              " 'sys': {'country': 'GB',\n",
              "  'id': 1414,\n",
              "  'sunrise': 1613373264,\n",
              "  'sunset': 1613409306,\n",
              "  'type': 1},\n",
              " 'timezone': 0,\n",
              " 'visibility': 10000,\n",
              " 'weather': [{'description': 'broken clouds',\n",
              "   'icon': '04d',\n",
              "   'id': 803,\n",
              "   'main': 'Clouds'}],\n",
              " 'wind': {'deg': 230, 'speed': 5.14}}"
            ]
          },
          "metadata": {
            "tags": []
          },
          "execution_count": 24
        }
      ]
    },
    {
      "cell_type": "code",
      "metadata": {
        "id": "-HEA8YHaBpwl",
        "colab": {
          "base_uri": "https://localhost:8080/"
        },
        "outputId": "6c653e06-3b35-4e3c-9161-d9a4ed834401"
      },
      "source": [
        "temp = data[\"main\"][\"temp\"]\r\n",
        "time = datetime.fromtimestamp(data[\"sys\"][\"sunrise\"])\r\n",
        "print(time)"
      ],
      "execution_count": null,
      "outputs": [
        {
          "output_type": "stream",
          "text": [
            "2021-02-15 07:14:24\n"
          ],
          "name": "stdout"
        }
      ]
    },
    {
      "cell_type": "code",
      "metadata": {
        "id": "60WGqH3mDnTH",
        "colab": {
          "base_uri": "https://localhost:8080/"
        },
        "outputId": "d4d28be6-d466-49ac-c28e-e4a8957d6af2"
      },
      "source": [
        "from datetime import datetime\r\n",
        "\r\n",
        "timestamp = time\r\n",
        "dt_object = datetime.fromtimestamp(timestamp)\r\n",
        "print(dt_object)"
      ],
      "execution_count": null,
      "outputs": [
        {
          "output_type": "stream",
          "text": [
            "2021-02-15 07:14:24\n"
          ],
          "name": "stdout"
        }
      ]
    },
    {
      "cell_type": "code",
      "metadata": {
        "id": "lhxUhPL-DGj8",
        "colab": {
          "base_uri": "https://localhost:8080/"
        },
        "outputId": "2bd9baff-f870-4c6f-a74a-7f53f8821fef"
      },
      "source": [
        "import requests\r\n",
        "import json\r\n",
        "\r\n",
        "url = 'http://api.openweathermap.org/data/2.5/weather?q=London,uk&APPID=d7fbd888f435c075cdd7d5a28ed0c899'\r\n",
        "data = requests.get(url).json()\r\n",
        "try:\r\n",
        "  temp = (data[\"main\"][\"temp\"])-273.15\r\n",
        "  country = data[\"sys\"][\"country\"]\r\n",
        "  windspeed = data[\"wind\"][\"speed\"]\r\n",
        "except KeyError:\r\n",
        "  print(\"Invalid key!\") \r\n",
        "else:  \r\n",
        "  print(temp)\r\n",
        "  print(country)\r\n",
        "  print(windspeed)"
      ],
      "execution_count": null,
      "outputs": [
        {
          "output_type": "stream",
          "text": [
            "12.460000000000036\n",
            "GB\n",
            "5.14\n"
          ],
          "name": "stdout"
        }
      ]
    },
    {
      "cell_type": "code",
      "metadata": {
        "id": "27saFUMwGJQi"
      },
      "source": [
        "data_state_code = requests.get(\"https://api.printful.com/countries\")\r\n",
        "data_state_code = data_state_code.json()"
      ],
      "execution_count": null,
      "outputs": []
    },
    {
      "cell_type": "code",
      "metadata": {
        "id": "2X5exILoGhat",
        "colab": {
          "base_uri": "https://localhost:8080/"
        },
        "outputId": "a6ddafc3-09fe-4dc8-9270-5e0e321f2d16"
      },
      "source": [
        "data_state_code.keys()"
      ],
      "execution_count": null,
      "outputs": [
        {
          "output_type": "execute_result",
          "data": {
            "text/plain": [
              "dict_keys(['code', 'result', 'extra'])"
            ]
          },
          "metadata": {
            "tags": []
          },
          "execution_count": 35
        }
      ]
    },
    {
      "cell_type": "code",
      "metadata": {
        "id": "CjTfkQ6kGg-f"
      },
      "source": [
        "def conutry_name_to_code():\r\n",
        "  zeme = input(\"Zadej zemi(Anglicky): \").title()\r\n",
        "  zkratka = \"\"\r\n",
        "  for d in data_state_code[\"result\"]:\r\n",
        "    if d.get(\"name\", \"neni\") == zeme:\r\n",
        "      zkratka = d[\"code\"]\r\n",
        "  return zkratka"
      ],
      "execution_count": null,
      "outputs": []
    },
    {
      "cell_type": "code",
      "metadata": {
        "id": "VC0px8-7EW7b"
      },
      "source": [
        "import requests\r\n",
        "import json\r\n",
        "city = input(\"Zadej mesto: \")\r\n",
        "zkratka = conutry_name_to_code()\r\n",
        "url = f'http://api.openweathermap.org/data/2.5/weather?q={city},{zkratka}&APPID=d7fbd888f435c075cdd7d5a28ed0c899'\r\n",
        "data = requests.get(url).json()\r\n",
        "print(\"Slunce vychazi v :\", data[\"sys\"][\"sunrise\"])\r\n",
        "print(\"Slunce vychazi v :\", data[\"sys\"][\"sunset\"])\r\n",
        "print(\"Teplota ve stupnioch je: \", data[\"main\"][\"temp\"]-273.15)"
      ],
      "execution_count": null,
      "outputs": []
    },
    {
      "cell_type": "code",
      "metadata": {
        "colab": {
          "base_uri": "https://localhost:8080/",
          "height": 166
        },
        "id": "yDlE7C_HMmMm",
        "outputId": "25495d3e-15ff-480a-e279-a6f1c13b811a"
      },
      "source": [
        "data[\"main\"][\"temp\"]-273.15"
      ],
      "execution_count": null,
      "outputs": [
        {
          "output_type": "error",
          "ename": "NameError",
          "evalue": "ignored",
          "traceback": [
            "\u001b[0;31m---------------------------------------------------------------------------\u001b[0m",
            "\u001b[0;31mNameError\u001b[0m                                 Traceback (most recent call last)",
            "\u001b[0;32m<ipython-input-4-a01031beefee>\u001b[0m in \u001b[0;36m<module>\u001b[0;34m()\u001b[0m\n\u001b[0;32m----> 1\u001b[0;31m \u001b[0mdata\u001b[0m\u001b[0;34m[\u001b[0m\u001b[0;34m\"main\"\u001b[0m\u001b[0;34m]\u001b[0m\u001b[0;34m[\u001b[0m\u001b[0;34m\"temp\"\u001b[0m\u001b[0;34m]\u001b[0m\u001b[0;34m-\u001b[0m\u001b[0;36m273.15\u001b[0m\u001b[0;34m\u001b[0m\u001b[0;34m\u001b[0m\u001b[0m\n\u001b[0m",
            "\u001b[0;31mNameError\u001b[0m: name 'data' is not defined"
          ]
        }
      ]
    },
    {
      "cell_type": "markdown",
      "metadata": {
        "id": "Cd7VvJEe3Ck3"
      },
      "source": [
        ""
      ]
    }
  ]
}