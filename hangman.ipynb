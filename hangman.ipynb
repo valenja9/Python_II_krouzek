{
  "nbformat": 4,
  "nbformat_minor": 0,
  "metadata": {
    "colab": {
      "name": "hangman.ipynb",
      "provenance": [],
      "authorship_tag": "ABX9TyP8a+/pVkm6tWcAdSSOQTeb",
      "include_colab_link": true
    },
    "kernelspec": {
      "name": "python3",
      "display_name": "Python 3"
    }
  },
  "cells": [
    {
      "cell_type": "markdown",
      "metadata": {
        "id": "view-in-github",
        "colab_type": "text"
      },
      "source": [
        "<a href=\"https://colab.research.google.com/github/valenja9/Python_krouzek_11_14/blob/main/hangman.ipynb\" target=\"_parent\"><img src=\"https://colab.research.google.com/assets/colab-badge.svg\" alt=\"Open In Colab\"/></a>"
      ]
    },
    {
      "cell_type": "code",
      "metadata": {
        "id": "P9BiG80JbmWt"
      },
      "source": [
        "import pandas as pd\n",
        "import random\n",
        "mesta = pd.read_html(\"https://cs.wikipedia.org/wiki/Seznam_m%C4%9Bst_v_%C4%8Cesku_podle_po%C4%8Dtu_obyvatel\")[0][\"Článek\"].to_list()"
      ],
      "execution_count": null,
      "outputs": []
    },
    {
      "cell_type": "code",
      "metadata": {
        "colab": {
          "base_uri": "https://localhost:8080/"
        },
        "id": "OR1g3G3HR4eb",
        "outputId": "a9dd80fe-ccde-44dd-a645-5ee66b94ad69"
      },
      "source": [
        "import random\n",
        "hadane_slovo = random.choice(mesta).lower() #Muzu menit slova! Mohu je dopsat\n",
        "uhadnu_slovo =  [\" \" if i == \" \" else \"_\" for i in hadane_slovo]\n",
        "zivoty =  round(len(hadane_slovo) * 1.5) #Zaokrouhleni\n",
        "pismena_nejsou_ve_slove = []\n",
        "oddelovac = \"-\" * 80\n",
        "while zivoty: #Dokud mam zivoty\n",
        "  print(oddelovac)\n",
        "  print(\"Tohle hadas! :\", uhadnu_slovo, f\"ma to celkem {len(uhadnu_slovo)}\")\n",
        "  print(oddelovac)\n",
        "  print(\"Pismena, ktera nejsou v slove:\", pismena_nejsou_ve_slove)\n",
        "  print(oddelovac)\n",
        "  zadej_pismeno = input(\"Zadej pismeno: \").lower() #zadej pismenonebo slovo\n",
        "  #Prvni uroven podminek\n",
        "  if zadej_pismeno in hadane_slovo and len(zadej_pismeno) == 1:\n",
        "    for i, pismena in enumerate(hadane_slovo): #Kdyby bylo pismeno vicekrat, tak chvi najit jeho pozici\n",
        "      #Nejnizsi uroven\n",
        "      if pismena == zadej_pismeno:\n",
        "            uhadnu_slovo[i] = zadej_pismeno\n",
        "            print(\"Pismeno je: \", zadej_pismeno, \"Zbyva zivotu: \", zivoty)\n",
        "            if \" \".join(uhadnu_slovo) == hadane_slovo:\n",
        "              print(f\"Uhadnul jsi! Slovo bylo: {hadane_slovo}\")\n",
        "              break\n",
        "    #Druha uroven podminek\n",
        "    if \" \".join(uhadnu_slovo) == hadane_slovo:\n",
        "        print(f\"Uhadnul jsi! Slovo bylo: {hadane_slovo}\")\n",
        "        break\n",
        "    #Druha uroven podminek\n",
        "    else:\n",
        "      zivoty = zivoty - 1\n",
        "      print(\"Toto pismeno neni v hadanem slove. Zbyva zivotu: \", zivoty)\n",
        "  #Prvni uroven podminek\n",
        "  elif len(zadej_pismeno) > 1 and zadej_pismeno == hadane_slovo:\n",
        "    print(\"Uhodl jsi\")\n",
        "    break\n",
        "  #Prvni uroven podminek\n",
        "  else:\n",
        "    zivoty = zivoty - 1\n",
        "    print(\"Toto pismeno neni v hadanem slove. Zbyva zivotu: \", zivoty)\n",
        "    if len(zadej_pismeno) == 1:\n",
        "        pismena_nejsou_ve_slove.append(zadej_pismeno)\n",
        "\n",
        "\n",
        "print(f\"hadane slovo bylo: {hadane_slovo}\")\n",
        "\n"
      ],
      "execution_count": null,
      "outputs": [
        {
          "output_type": "stream",
          "text": [
            "--------------------------------------------------------------------------------\n",
            "Tohle hadas! : ['_', '_', '_', '_', '_', '_', '_', '_'] ma to celkem 8\n",
            "--------------------------------------------------------------------------------\n",
            "Pismena, ktera nejsou v slove: []\n",
            "--------------------------------------------------------------------------------\n",
            "Pismeno je:  a Zbyva zivotu:  12\n",
            "Toto pismeno neni v hadanem slove. Zbyva zivotu:  11\n",
            "--------------------------------------------------------------------------------\n",
            "Tohle hadas! : ['_', '_', 'a', '_', '_', '_', '_', '_'] ma to celkem 8\n",
            "--------------------------------------------------------------------------------\n",
            "Pismena, ktera nejsou v slove: []\n",
            "--------------------------------------------------------------------------------\n",
            "Toto pismeno neni v hadanem slove. Zbyva zivotu:  10\n",
            "--------------------------------------------------------------------------------\n",
            "Tohle hadas! : ['_', '_', 'a', '_', '_', '_', '_', '_'] ma to celkem 8\n",
            "--------------------------------------------------------------------------------\n",
            "Pismena, ktera nejsou v slove: ['s']\n",
            "--------------------------------------------------------------------------------\n",
            "Toto pismeno neni v hadanem slove. Zbyva zivotu:  9\n",
            "--------------------------------------------------------------------------------\n",
            "Tohle hadas! : ['_', '_', 'a', '_', '_', '_', '_', '_'] ma to celkem 8\n",
            "--------------------------------------------------------------------------------\n",
            "Pismena, ktera nejsou v slove: ['s', 'f']\n",
            "--------------------------------------------------------------------------------\n",
            "Pismeno je:  d Zbyva zivotu:  9\n",
            "Toto pismeno neni v hadanem slove. Zbyva zivotu:  8\n",
            "--------------------------------------------------------------------------------\n",
            "Tohle hadas! : ['_', '_', 'a', 'd', '_', '_', '_', '_'] ma to celkem 8\n",
            "--------------------------------------------------------------------------------\n",
            "Pismena, ktera nejsou v slove: ['s', 'f']\n",
            "--------------------------------------------------------------------------------\n",
            "Toto pismeno neni v hadanem slove. Zbyva zivotu:  7\n",
            "--------------------------------------------------------------------------------\n",
            "Tohle hadas! : ['_', '_', 'a', 'd', '_', '_', '_', '_'] ma to celkem 8\n",
            "--------------------------------------------------------------------------------\n",
            "Pismena, ktera nejsou v slove: ['s', 'f', 'h']\n",
            "--------------------------------------------------------------------------------\n",
            "Pismeno je:  y Zbyva zivotu:  7\n",
            "Toto pismeno neni v hadanem slove. Zbyva zivotu:  6\n",
            "--------------------------------------------------------------------------------\n",
            "Tohle hadas! : ['_', '_', 'a', 'd', '_', '_', '_', 'y'] ma to celkem 8\n",
            "--------------------------------------------------------------------------------\n",
            "Pismena, ktera nejsou v slove: ['s', 'f', 'h']\n",
            "--------------------------------------------------------------------------------\n",
            "Pismeno je:  u Zbyva zivotu:  6\n",
            "Toto pismeno neni v hadanem slove. Zbyva zivotu:  5\n",
            "--------------------------------------------------------------------------------\n",
            "Tohle hadas! : ['_', '_', 'a', 'd', '_', 'u', '_', 'y'] ma to celkem 8\n",
            "--------------------------------------------------------------------------------\n",
            "Pismena, ktera nejsou v slove: ['s', 'f', 'h']\n",
            "--------------------------------------------------------------------------------\n",
            "Toto pismeno neni v hadanem slove. Zbyva zivotu:  4\n",
            "--------------------------------------------------------------------------------\n",
            "Tohle hadas! : ['_', '_', 'a', 'd', '_', 'u', '_', 'y'] ma to celkem 8\n",
            "--------------------------------------------------------------------------------\n",
            "Pismena, ktera nejsou v slove: ['s', 'f', 'h', 't']\n",
            "--------------------------------------------------------------------------------\n",
            "Toto pismeno neni v hadanem slove. Zbyva zivotu:  3\n",
            "--------------------------------------------------------------------------------\n",
            "Tohle hadas! : ['_', '_', 'a', 'd', '_', 'u', '_', 'y'] ma to celkem 8\n",
            "--------------------------------------------------------------------------------\n",
            "Pismena, ktera nejsou v slove: ['s', 'f', 'h', 't', 'e']\n",
            "--------------------------------------------------------------------------------\n",
            "Pismeno je:  r Zbyva zivotu:  3\n",
            "Toto pismeno neni v hadanem slove. Zbyva zivotu:  2\n",
            "--------------------------------------------------------------------------------\n",
            "Tohle hadas! : ['_', '_', 'a', 'd', 'r', 'u', '_', 'y'] ma to celkem 8\n",
            "--------------------------------------------------------------------------------\n",
            "Pismena, ktera nejsou v slove: ['s', 'f', 'h', 't', 'e']\n",
            "--------------------------------------------------------------------------------\n",
            "Toto pismeno neni v hadanem slove. Zbyva zivotu:  1\n",
            "--------------------------------------------------------------------------------\n",
            "Tohle hadas! : ['_', '_', 'a', 'd', 'r', 'u', '_', 'y'] ma to celkem 8\n",
            "--------------------------------------------------------------------------------\n",
            "Pismena, ktera nejsou v slove: ['s', 'f', 'h', 't', 'e', 'j']\n",
            "--------------------------------------------------------------------------------\n"
          ],
          "name": "stdout"
        }
      ]
    }
  ]
}