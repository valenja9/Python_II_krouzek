{
  "nbformat": 4,
  "nbformat_minor": 0,
  "metadata": {
    "colab": {
      "name": "Python_11_14_IX.ipynb",
      "provenance": [],
      "authorship_tag": "ABX9TyMDzB3cFAEFiQPvQT8zrA+e",
      "include_colab_link": true
    },
    "kernelspec": {
      "name": "python3",
      "display_name": "Python 3"
    },
    "language_info": {
      "name": "python"
    }
  },
  "cells": [
    {
      "cell_type": "markdown",
      "metadata": {
        "id": "view-in-github",
        "colab_type": "text"
      },
      "source": [
        "<a href=\"https://colab.research.google.com/github/valenja9/Python_krouzek_11_14/blob/main/Python_11_14_IX.ipynb\" target=\"_parent\"><img src=\"https://colab.research.google.com/assets/colab-badge.svg\" alt=\"Open In Colab\"/></a>"
      ]
    },
    {
      "cell_type": "markdown",
      "metadata": {
        "id": "uzspZ6-FfLMd"
      },
      "source": [
        "# Funkce"
      ]
    },
    {
      "cell_type": "code",
      "metadata": {
        "colab": {
          "base_uri": "https://localhost:8080/"
        },
        "id": "xd5mkR7lfE0z",
        "outputId": "382ce8f6-9e94-4987-d137-5883b6006451"
      },
      "source": [
        "cislo1 = 5\n",
        "cislo2 = 8\n",
        "vysledek = cislo1 + cislo2\n",
        "print(vysledek)"
      ],
      "execution_count": 1,
      "outputs": [
        {
          "output_type": "stream",
          "text": [
            "13\n"
          ],
          "name": "stdout"
        }
      ]
    },
    {
      "cell_type": "code",
      "metadata": {
        "id": "jNB3827Eh1lK"
      },
      "source": [
        "print(), dir(), help()"
      ],
      "execution_count": null,
      "outputs": []
    },
    {
      "cell_type": "code",
      "metadata": {
        "colab": {
          "base_uri": "https://localhost:8080/"
        },
        "id": "jKdy_IqZillo",
        "outputId": "7b63e29b-1388-4298-ad7a-f82f2a059111"
      },
      "source": [
        "\"hhjjjj,jkkkjm,dsf\".split(\",\")"
      ],
      "execution_count": 2,
      "outputs": [
        {
          "output_type": "execute_result",
          "data": {
            "text/plain": [
              "['hhjjjj', 'jkkkjm', 'dsf']"
            ]
          },
          "metadata": {
            "tags": []
          },
          "execution_count": 2
        }
      ]
    },
    {
      "cell_type": "code",
      "metadata": {
        "id": "bWlRsZ2qiJvb"
      },
      "source": [
        "def soucet_dvou_cisel(cislo1, cislo2):\n",
        "  vysledek = cislo1 + cislo2\n",
        "  print(vysledek) #pozor na výpis"
      ],
      "execution_count": 7,
      "outputs": []
    },
    {
      "cell_type": "code",
      "metadata": {
        "colab": {
          "base_uri": "https://localhost:8080/"
        },
        "id": "WPgCpsAli1_J",
        "outputId": "7ebf23e9-3c18-4032-8e90-e7b983a16021"
      },
      "source": [
        "soucet_dvou_cisel(5, 8) #musim vlozit argumenty"
      ],
      "execution_count": 10,
      "outputs": [
        {
          "output_type": "stream",
          "text": [
            "13\n"
          ],
          "name": "stdout"
        }
      ]
    },
    {
      "cell_type": "code",
      "metadata": {
        "id": "nyQonX9QjTlM"
      },
      "source": [
        "#vytvorte funkci, ktera spoji dva texty dohromady. \n",
        "def spoj_dva_texty(text1, text2):\n",
        "  vysledny_text = text1 + \" , \" + text2 #tohle uumime napsat\n",
        "  print(vysledny_text)"
      ],
      "execution_count": 15,
      "outputs": []
    },
    {
      "cell_type": "code",
      "metadata": {
        "id": "CjTPWq2klTBL"
      },
      "source": [
        "spoj_dva_texty(\"Ahoj\", \"to jsem já.\")"
      ],
      "execution_count": null,
      "outputs": []
    },
    {
      "cell_type": "code",
      "metadata": {
        "colab": {
          "base_uri": "https://localhost:8080/"
        },
        "id": "eWuVL633mrfn",
        "outputId": "62a8083d-6bf6-489a-f7c3-25b149d3e98c"
      },
      "source": [
        "import time\n",
        "\n",
        "txt1 = input(\"Zadej první text: \")\n",
        "mezera = input(\"Zadej čím chceš rozdělit zadané texty: \")\n",
        "txt2 = input(\"Zadej druhý text: \")\n",
        "def spoj_text_dohromady(txt1, mezera, txt2):\n",
        "  txt3 = txt1 + mezera + txt2\n",
        "  oddelovac = (\"\"\"\n",
        "  \"\"\")\n",
        "  print(oddelovac)\n",
        "  print(f\"Text po spojení vypadá takto: {txt3}\")\n",
        "  print(oddelovac)\n",
        "  time.sleep(3)\n",
        "  print(\"Jupí funguje to!\")"
      ],
      "execution_count": 11,
      "outputs": [
        {
          "output_type": "stream",
          "text": [
            "Zadej první text: Ahoj\n",
            "Zadej čím chceš rozdělit zadané texty: +\n",
            "Zadej druhý text: jak to jde?\n"
          ],
          "name": "stdout"
        }
      ]
    },
    {
      "cell_type": "code",
      "metadata": {
        "colab": {
          "base_uri": "https://localhost:8080/"
        },
        "id": "ovIQ224Cm9XI",
        "outputId": "3dbb6800-6d66-44cf-f352-36d2002dd529"
      },
      "source": [
        "spoj_text_dohromady(txt1, mezera, txt2)"
      ],
      "execution_count": 12,
      "outputs": [
        {
          "output_type": "stream",
          "text": [
            "\n",
            "  \n",
            "Text po spojení vypadá takto: Ahoj+jak to jde?\n",
            "\n",
            "  \n",
            "Jupí funguje to!\n"
          ],
          "name": "stdout"
        }
      ]
    },
    {
      "cell_type": "code",
      "metadata": {
        "colab": {
          "base_uri": "https://localhost:8080/"
        },
        "id": "sbaJKJXVnHK9",
        "outputId": "df92f0ab-152d-4211-9052-df319a6c9c27"
      },
      "source": [
        "spoj_text_dohromady(txt1, mezera, txt2)"
      ],
      "execution_count": 13,
      "outputs": [
        {
          "output_type": "stream",
          "text": [
            "\n",
            "  \n",
            "Text po spojení vypadá takto: Ahoj+jak to jde?\n",
            "\n",
            "  \n",
            "Jupí funguje to!\n"
          ],
          "name": "stdout"
        }
      ]
    },
    {
      "cell_type": "code",
      "metadata": {
        "colab": {
          "base_uri": "https://localhost:8080/"
        },
        "id": "1_ccwH6WnhVh",
        "outputId": "c6c40b10-b0e5-4c82-f296-6fea07961ea6"
      },
      "source": [
        "vyslek_funkce = spoj_dva_texty(\"a\", \"b\")\n",
        "print(vyslek_funkce)"
      ],
      "execution_count": 17,
      "outputs": [
        {
          "output_type": "stream",
          "text": [
            "a , b\n",
            "None\n"
          ],
          "name": "stdout"
        }
      ]
    },
    {
      "cell_type": "code",
      "metadata": {
        "id": "e5RZlAa0nNhz"
      },
      "source": [
        "def spoj_dva_texty(text1, text2):\n",
        "  vysledny_text = text1 + \" , \" + text2 #tohle umime napsat\n",
        "  return vysledny_text"
      ],
      "execution_count": 18,
      "outputs": []
    },
    {
      "cell_type": "code",
      "metadata": {
        "colab": {
          "base_uri": "https://localhost:8080/"
        },
        "id": "NrmUZBmnoAHA",
        "outputId": "22310807-a045-4fa6-d64e-8c81211e39d6"
      },
      "source": [
        "vyslek_funkce = spoj_dva_texty(\"a\", \"b\")\n",
        "print(vyslek_funkce)"
      ],
      "execution_count": 19,
      "outputs": [
        {
          "output_type": "stream",
          "text": [
            "a , b\n"
          ],
          "name": "stdout"
        }
      ]
    },
    {
      "cell_type": "code",
      "metadata": {
        "colab": {
          "base_uri": "https://localhost:8080/",
          "height": 35
        },
        "id": "vRhf6XEmoEUU",
        "outputId": "47a84fb8-11cc-4d61-8d15-a05b4f0ecee8"
      },
      "source": [
        "vyslek_funkce"
      ],
      "execution_count": 20,
      "outputs": [
        {
          "output_type": "execute_result",
          "data": {
            "application/vnd.google.colaboratory.intrinsic+json": {
              "type": "string"
            },
            "text/plain": [
              "'a , b'"
            ]
          },
          "metadata": {
            "tags": []
          },
          "execution_count": 20
        }
      ]
    },
    {
      "cell_type": "code",
      "metadata": {
        "id": "JcpL4sKyoOjv"
      },
      "source": [
        "#Vytvorte funkci kalkulacka, ktera se krmí znamínkem, cislem1 a cislem2. Tato funkce vraci vysledek operací.\n",
        "def ...... :\n",
        "\n",
        "  if operace == \"*\":\n",
        "    return cislo1 * cislo2\n",
        "\n",
        "vysledek = kalkulacka(\"*\",6,9)\n",
        "print(vysledek)"
      ],
      "execution_count": null,
      "outputs": []
    },
    {
      "cell_type": "code",
      "metadata": {
        "colab": {
          "base_uri": "https://localhost:8080/"
        },
        "id": "rzkoKTbWrbWJ",
        "outputId": "12a63f9d-ae16-41f1-f7a7-0b32660a78ee"
      },
      "source": [
        "def kalkulacka(znamenko, cis1, cis2):\n",
        "  vysledek_plus = cis1 + cis2\n",
        "  vysledek_minus = cis1 - cis2\n",
        "  vysledek_krat = cis1 * cis2\n",
        "  vysledek_deleno = cis1 / cis2\n",
        "  if znamenko == '+':\n",
        "    return vysledek_plus\n",
        "  \n",
        "  elif znamenko == '-':\n",
        "    return vysledek_minus\n",
        "  \n",
        "  elif znamenko == '*':\n",
        "    return vysledek_krat\n",
        "\n",
        "  elif znamenko == '/':\n",
        "    return vysledek_deleno\n",
        "hlavni_vysledek = kalkulacka('/', 10, 5)\n",
        "print(hlavni_vysledek)"
      ],
      "execution_count": 21,
      "outputs": [
        {
          "output_type": "stream",
          "text": [
            "2.0\n"
          ],
          "name": "stdout"
        }
      ]
    },
    {
      "cell_type": "markdown",
      "metadata": {
        "id": "OG7MVtQVqJur"
      },
      "source": [
        "# Hod kostkou"
      ]
    },
    {
      "cell_type": "code",
      "metadata": {
        "colab": {
          "base_uri": "https://localhost:8080/"
        },
        "id": "Hjpxdbk5qSWf",
        "outputId": "d9abbae9-b023-484c-95c3-ecbf9d82c2dc"
      },
      "source": [
        "import random\n",
        "\n",
        "dir(random)"
      ],
      "execution_count": 22,
      "outputs": [
        {
          "output_type": "execute_result",
          "data": {
            "text/plain": [
              "['BPF',\n",
              " 'LOG4',\n",
              " 'NV_MAGICCONST',\n",
              " 'RECIP_BPF',\n",
              " 'Random',\n",
              " 'SG_MAGICCONST',\n",
              " 'SystemRandom',\n",
              " 'TWOPI',\n",
              " '_BuiltinMethodType',\n",
              " '_MethodType',\n",
              " '_Sequence',\n",
              " '_Set',\n",
              " '__all__',\n",
              " '__builtins__',\n",
              " '__cached__',\n",
              " '__doc__',\n",
              " '__file__',\n",
              " '__loader__',\n",
              " '__name__',\n",
              " '__package__',\n",
              " '__spec__',\n",
              " '_acos',\n",
              " '_bisect',\n",
              " '_ceil',\n",
              " '_cos',\n",
              " '_e',\n",
              " '_exp',\n",
              " '_inst',\n",
              " '_itertools',\n",
              " '_log',\n",
              " '_os',\n",
              " '_pi',\n",
              " '_random',\n",
              " '_sha512',\n",
              " '_sin',\n",
              " '_sqrt',\n",
              " '_test',\n",
              " '_test_generator',\n",
              " '_urandom',\n",
              " '_warn',\n",
              " 'betavariate',\n",
              " 'choice',\n",
              " 'choices',\n",
              " 'expovariate',\n",
              " 'gammavariate',\n",
              " 'gauss',\n",
              " 'getrandbits',\n",
              " 'getstate',\n",
              " 'lognormvariate',\n",
              " 'normalvariate',\n",
              " 'paretovariate',\n",
              " 'randint',\n",
              " 'random',\n",
              " 'randrange',\n",
              " 'sample',\n",
              " 'seed',\n",
              " 'setstate',\n",
              " 'shuffle',\n",
              " 'triangular',\n",
              " 'uniform',\n",
              " 'vonmisesvariate',\n",
              " 'weibullvariate']"
            ]
          },
          "metadata": {
            "tags": []
          },
          "execution_count": 22
        }
      ]
    },
    {
      "cell_type": "code",
      "metadata": {
        "colab": {
          "base_uri": "https://localhost:8080/"
        },
        "id": "AsijT939sRsE",
        "outputId": "66993b41-fe26-48b9-8f54-679be65a139c"
      },
      "source": [
        "def ktery_hrac_hodil_vetsi_cislo():\n",
        "    hrac1 = random.randint(1, 6)\n",
        "    hrac2 = random.randint(1, 6)\n",
        "    if hrac1 > hrac2:\n",
        "      return \"hrac1 hodil víc\"\n",
        "    elif hrac1 == hrac2:\n",
        "      return \"oba mají stejně\"\n",
        "    elif hrac1 < hrac2:\n",
        "      return \"hrac2 hodil víc než hráč dva\"\n",
        "\n",
        "for i in range(10):\n",
        "  print(\"V tomto kole to vypadalo následovně: \", ktery_hrac_hodil_vetsi_cislo())"
      ],
      "execution_count": 36,
      "outputs": [
        {
          "output_type": "stream",
          "text": [
            "V tomto kole to vypadalo následovně:  hrac2 hodil víc než hráč dva\n",
            "V tomto kole to vypadalo následovně:  hrac2 hodil víc než hráč dva\n",
            "V tomto kole to vypadalo následovně:  hrac2 hodil víc než hráč dva\n",
            "V tomto kole to vypadalo následovně:  hrac2 hodil víc než hráč dva\n",
            "V tomto kole to vypadalo následovně:  hrac1 hodil víc\n",
            "V tomto kole to vypadalo následovně:  hrac1 hodil víc\n",
            "V tomto kole to vypadalo následovně:  hrac1 hodil víc\n",
            "V tomto kole to vypadalo následovně:  hrac1 hodil víc\n",
            "V tomto kole to vypadalo následovně:  oba mají stejně\n",
            "V tomto kole to vypadalo následovně:  hrac1 hodil víc\n"
          ],
          "name": "stdout"
        }
      ]
    },
    {
      "cell_type": "code",
      "metadata": {
        "id": "mQ7dJCNmy44j"
      },
      "source": [
        "pole = [\"_\"] * 6"
      ],
      "execution_count": 46,
      "outputs": []
    },
    {
      "cell_type": "code",
      "metadata": {
        "colab": {
          "base_uri": "https://localhost:8080/"
        },
        "id": "LkRQF4d5tg8b",
        "outputId": "691883f3-e891-474c-b5cc-bffb5a7fd880"
      },
      "source": [
        "\n",
        "def projdi_hraci_pole():\n",
        "    index = random.randint(1, 6) \n",
        "    pole[index - 1] = \"#\"\n",
        "\n",
        "projdi_hraci_pole()\n",
        "print(pole)"
      ],
      "execution_count": 57,
      "outputs": [
        {
          "output_type": "stream",
          "text": [
            "['#', '#', '#', '#', '_', '#']\n"
          ],
          "name": "stdout"
        }
      ]
    },
    {
      "cell_type": "code",
      "metadata": {
        "id": "GUAYTQCnyRFQ"
      },
      "source": [
        ""
      ],
      "execution_count": null,
      "outputs": []
    }
  ]
}