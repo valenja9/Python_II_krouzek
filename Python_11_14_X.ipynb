{
  "nbformat": 4,
  "nbformat_minor": 0,
  "metadata": {
    "colab": {
      "name": "Python_11_14_X.ipynb",
      "provenance": [],
      "authorship_tag": "ABX9TyNJFcymZiSJmgeGmVKaFhf+",
      "include_colab_link": true
    },
    "kernelspec": {
      "name": "python3",
      "display_name": "Python 3"
    },
    "language_info": {
      "name": "python"
    }
  },
  "cells": [
    {
      "cell_type": "markdown",
      "metadata": {
        "id": "view-in-github",
        "colab_type": "text"
      },
      "source": [
        "<a href=\"https://colab.research.google.com/github/valenja9/Python_krouzek_11_14/blob/main/Python_11_14_X.ipynb\" target=\"_parent\"><img src=\"https://colab.research.google.com/assets/colab-badge.svg\" alt=\"Open In Colab\"/></a>"
      ]
    },
    {
      "cell_type": "code",
      "metadata": {
        "id": "GyUEKsEymcuU"
      },
      "source": [
        "def soucet(x, y):\n",
        "  return x + y"
      ],
      "execution_count": 1,
      "outputs": []
    },
    {
      "cell_type": "code",
      "metadata": {
        "colab": {
          "base_uri": "https://localhost:8080/"
        },
        "id": "m-6L2gA8m5Wb",
        "outputId": "36e508bc-cbb6-4adb-c9f7-bdedba8f4220"
      },
      "source": [
        "soucet(3, 6)"
      ],
      "execution_count": 5,
      "outputs": [
        {
          "output_type": "execute_result",
          "data": {
            "text/plain": [
              "9"
            ]
          },
          "metadata": {
            "tags": []
          },
          "execution_count": 5
        }
      ]
    },
    {
      "cell_type": "code",
      "metadata": {
        "id": "IlQB9J81nNTX"
      },
      "source": [
        "#1) vytvor funkci, ktera vygenereruje webove adresy dle domeny. \n",
        "#Funkce vsem slovum prida: https na zacetek a .cz na konec.\n",
        "stranky = [\"vesely_drak\", \"vzdelanibudoucnosti\", \"kruty_kody\"]\n",
        "\n",
        "def vytvor_url_odkazy(list_stranek): #parametr funkce\n",
        "  \"\"\"Nic tu neni\"\"\"\n",
        "  pass\n",
        "\n",
        "vytvor_url_odkazy(stranky) #argumen"
      ],
      "execution_count": null,
      "outputs": []
    },
    {
      "cell_type": "markdown",
      "metadata": {
        "id": "nYPSNMN6nnSD"
      },
      "source": [
        "['https://vesely_drak.cz',\n",
        " 'https://vzdelani_budoucnosti.cz',\n",
        " 'https://kruty_kody.cz']"
      ]
    },
    {
      "cell_type": "code",
      "metadata": {
        "colab": {
          "base_uri": "https://localhost:8080/"
        },
        "id": "swT3JdcEpD-p",
        "outputId": "9eb71971-d2fc-4643-e11b-6a70bda5b0b0"
      },
      "source": [
        "def stranky(stranka):\n",
        "  return 'https://' + stranka + '.cz'\n",
        "\n",
        "stranka = input('zadej internetovou stránku: ')\n",
        "cela_stranka = stranky(stranka)\n",
        "print(cela_stranka)"
      ],
      "execution_count": 7,
      "outputs": [
        {
          "output_type": "stream",
          "text": [
            "zadej internetovou stránku: vesely_dracek\n",
            "https://vesely_dracek.cz\n"
          ],
          "name": "stdout"
        }
      ]
    },
    {
      "cell_type": "code",
      "metadata": {
        "colab": {
          "base_uri": "https://localhost:8080/"
        },
        "id": "OEoNmeOwpojL",
        "outputId": "fe5e94dc-73d8-4bb2-9b24-f4247cf3c906"
      },
      "source": [
        "\n",
        "def vytvor_url_odkaz(stranky):\n",
        "    list_url_adres = []\n",
        "    pred = \"https\"\n",
        "    za = \".cz\" \n",
        "    for stranka in stranky:\n",
        "      list_url_adres.append(pred +  '://'  + stranka + za)\n",
        "    return list_url_adres\n",
        "\n",
        "list_stranek = [\"vesely_drak\", \"vzdelanibudoucnosti\", \"kruty_kody\"]\n",
        "vytvor_url_odkaz(list_stranek)"
      ],
      "execution_count": 9,
      "outputs": [
        {
          "output_type": "execute_result",
          "data": {
            "text/plain": [
              "['https://vesely_drak.cz',\n",
              " 'https://vzdelanibudoucnosti.cz',\n",
              " 'https://kruty_kody.cz']"
            ]
          },
          "metadata": {
            "tags": []
          },
          "execution_count": 9
        }
      ]
    },
    {
      "cell_type": "code",
      "metadata": {
        "colab": {
          "base_uri": "https://localhost:8080/"
        },
        "id": "ZjtZcqpZqdJS",
        "outputId": "d22f07d7-0511-4518-aa2f-4d022ce5daaf"
      },
      "source": [
        "def vytvoreni_url(stranka):\n",
        "  return \"https://\" + stranka + \".cz\"\n",
        "\n",
        "zadana_spolecnost = \"banka-orechmnam\"\n",
        "cela_stranka = vytvoreni_url(zadana_spolecnost)\n",
        "print(cela_stranka)"
      ],
      "execution_count": 11,
      "outputs": [
        {
          "output_type": "stream",
          "text": [
            "https://banka-orechmnam.cz\n"
          ],
          "name": "stdout"
        }
      ]
    },
    {
      "cell_type": "code",
      "metadata": {
        "colab": {
          "base_uri": "https://localhost:8080/"
        },
        "id": "0FSEygTJq86D",
        "outputId": "23d2bbfe-0ef7-4c7d-dbf8-8d1706041222"
      },
      "source": [
        "def vytvareni_url(stranka):\n",
        "  return \"https://\" + stranka + \".cz\"\n",
        "\n",
        "stranka = input(\"jméno internetové stránky: \")\n",
        "kompletni_url = vytvareni_url(stranka)\n",
        "print(kompletni_url)"
      ],
      "execution_count": 12,
      "outputs": [
        {
          "output_type": "stream",
          "text": [
            "jméno internetové stránky:vesely-salamandr\n",
            "https://vesely-salamandr.cz\n"
          ],
          "name": "stdout"
        }
      ]
    },
    {
      "cell_type": "code",
      "metadata": {
        "colab": {
          "base_uri": "https://localhost:8080/"
        },
        "id": "XHDUnnB0rsp_",
        "outputId": "dea9d927-dcf6-4338-905f-56fc9f92b0a3"
      },
      "source": [
        "\"ahoj jak se vede\".split(\" \")"
      ],
      "execution_count": 14,
      "outputs": [
        {
          "output_type": "execute_result",
          "data": {
            "text/plain": [
              "['ahoj', 'jak', 'se', 'vede']"
            ]
          },
          "metadata": {
            "tags": []
          },
          "execution_count": 14
        }
      ]
    },
    {
      "cell_type": "code",
      "metadata": {
        "id": "MOM0M9JyrWaR"
      },
      "source": [
        "# Vylepši funkci, abych si mohl upravovat nejvyšší doménu (.cz) a protokol byl přednastavený.\n",
        "#1) vytvor funkci, ktera vygenereruje webove adresy dle domeny. \n",
        "#Funkce vsem slovum prida: https,.cz\n",
        "\n",
        "def vytvor_url_odkaz( , ,protokol=\"https\"):\n",
        "  pass"
      ],
      "execution_count": null,
      "outputs": []
    },
    {
      "cell_type": "code",
      "metadata": {
        "colab": {
          "base_uri": "https://localhost:8080/"
        },
        "id": "_NyWytXMsALs",
        "outputId": "f930a4a2-c3fc-4c65-f75c-0cc8aad54ddb"
      },
      "source": [
        "def make_url(stranka, domena, protokol = \"https\"):\n",
        "  return protokol + \"://\" + stranka + \".\" + domena\n",
        "\n",
        "print(make_url(\"vitkova-stranka\", domena=\"cz\"))"
      ],
      "execution_count": 19,
      "outputs": [
        {
          "output_type": "stream",
          "text": [
            "https://vitkova-stranka.cz\n"
          ],
          "name": "stdout"
        }
      ]
    },
    {
      "cell_type": "code",
      "metadata": {
        "id": "RMhdsGdntpDR"
      },
      "source": [
        "def stranky(stranka):\n",
        "  return \"https://\" + stranka + \".cz\"\n",
        "stranka = input(\"Zadej jmeno stranky: \")\n",
        "stranka = stranky(stranka)\n",
        "print(stranka)"
      ],
      "execution_count": null,
      "outputs": []
    },
    {
      "cell_type": "code",
      "metadata": {
        "id": "vUYNKyO-uz-t"
      },
      "source": [
        "print()"
      ],
      "execution_count": null,
      "outputs": []
    },
    {
      "cell_type": "code",
      "metadata": {
        "colab": {
          "base_uri": "https://localhost:8080/"
        },
        "id": "2B5sDSvBueJ3",
        "outputId": "fa7adfc0-9e30-433a-af2d-021452c28d77"
      },
      "source": [
        "def make_url(stranka, domena=\"com\", protokol=\"https\"):\n",
        "  return protokol + \"://\" + stranka + \".\" + domena\n",
        "print(make_url(\"colab-google\"))"
      ],
      "execution_count": 20,
      "outputs": [
        {
          "output_type": "stream",
          "text": [
            "https://colab-google.com\n"
          ],
          "name": "stdout"
        }
      ]
    },
    {
      "cell_type": "code",
      "metadata": {
        "id": "6Cudh3FxvBqQ"
      },
      "source": [
        "#vygenerujte 5 existujicich url adres a ulozte je do listu.\n",
        "\n",
        "def url_na_heureku():\n",
        "  pass\n",
        "zadam = \"spider man\"\n",
        "#https://www.heureka.cz/?h%5Bfraze%5D=spider+man  "
      ],
      "execution_count": null,
      "outputs": []
    },
    {
      "cell_type": "code",
      "metadata": {
        "colab": {
          "base_uri": "https://localhost:8080/"
        },
        "id": "lSgweebYyM6O",
        "outputId": "de238b06-be36-405e-9c29-3bbc9085570f"
      },
      "source": [
        "zadam = \"spider man\"\n",
        "zadam = zadam.replace(\" \", \"+\")\n",
        "spojeni = \"https://www.heureka.cz/?h%5Bfraze%5D=\" + zadam\n",
        "print(spojeni)"
      ],
      "execution_count": 24,
      "outputs": [
        {
          "output_type": "stream",
          "text": [
            "https://www.heureka.cz/?h%5Bfraze%5D=spider+man\n"
          ],
          "name": "stdout"
        }
      ]
    },
    {
      "cell_type": "code",
      "metadata": {
        "id": "ER0LNEpuyKZq"
      },
      "source": [
        "def make_url(stranka, domena=\"cz\", protokol = \"https\", url=\"?h%5Bfraze%5D=spider+man\"):\n",
        "  return protokol + \"://\" + stranka + \".\" + domena + \"/\" + url\n",
        "print(make_url(\"heureka\",))"
      ],
      "execution_count": null,
      "outputs": []
    },
    {
      "cell_type": "code",
      "metadata": {
        "colab": {
          "base_uri": "https://localhost:8080/"
        },
        "id": "XauM4zkAzj6v",
        "outputId": "24c6a175-7ccf-458e-9ae6-f10fa338dce7"
      },
      "source": [
        "\n",
        "def vytvor_url_odkaz(stranky):\n",
        "    list_url_adres = []\n",
        "    pred = \"https\"\n",
        "    za = \".cz\" \n",
        "    for stranka in stranky:\n",
        "      list_url_adres.append(pred +  '://'  + stranka + za)\n",
        "    return list_url_adres\n",
        "\n",
        "list_stranek = [\"vesely_drak\", \"vzdelanibudoucnosti\", \"kruty_kody\"]\n",
        "list_url_adres = vytvor_url_odkaz(list_stranek)"
      ],
      "execution_count": 25,
      "outputs": [
        {
          "output_type": "execute_result",
          "data": {
            "text/plain": [
              "['https://vesely_drak.cz',\n",
              " 'https://vzdelanibudoucnosti.cz',\n",
              " 'https://kruty_kody.cz']"
            ]
          },
          "metadata": {
            "tags": []
          },
          "execution_count": 25
        }
      ]
    },
    {
      "cell_type": "code",
      "metadata": {
        "colab": {
          "base_uri": "https://localhost:8080/"
        },
        "id": "JVY7PkGx0Z47",
        "outputId": "04638543-9b28-4e48-d861-3769578a81bb"
      },
      "source": [
        "list_jmen_mailu = [\"Karel\", \"Radim\", \"Filip\"]\n",
        "list_stranek = [\"vesely_drak\", \"vzdelanibudoucnosti\", \"kruty_kody\"]\n",
        "\n",
        "\n",
        "def vytvor_url_odkaz(stranky) -> list:\n",
        "    list_url_adres = []\n",
        "    pred = \"https\"\n",
        "    za = \".cz\" \n",
        "    for stranka in stranky:\n",
        "      list_url_adres.append(pred +  '://'  + stranka + za)\n",
        "    return list_url_adres\n",
        "\n",
        "def generuj_maily(pocatecni_stranky, jmena_mailu, domena=\"cz\") -> dict:\n",
        "  slovnik_spolecnosti = {}\n",
        "  for stranka in pocatecni_stranky:\n",
        "    list_mailu = []\n",
        "    for jmeno in jmena_mailu:\n",
        "      mail = jmeno + \"@\" + stranka + \".\" + domena\n",
        "      list_mailu.append(mail)\n",
        "    slovnik_spolecnosti[stranka] = list_mailu\n",
        "  return slovnik_spolecnosti\n",
        "\n",
        "\n",
        "list_url_adres = vytvor_url_odkaz(list_stranek)\n",
        "generuj_maily(list_stranek, list_jmen_mailu)"
      ],
      "execution_count": 39,
      "outputs": [
        {
          "output_type": "execute_result",
          "data": {
            "text/plain": [
              "{'kruty_kody': ['Karel@kruty_kody.cz',\n",
              "  'Radim@kruty_kody.cz',\n",
              "  'Filip@kruty_kody.cz'],\n",
              " 'vesely_drak': ['Karel@vesely_drak.cz',\n",
              "  'Radim@vesely_drak.cz',\n",
              "  'Filip@vesely_drak.cz'],\n",
              " 'vzdelanibudoucnosti': ['Karel@vzdelanibudoucnosti.cz',\n",
              "  'Radim@vzdelanibudoucnosti.cz',\n",
              "  'Filip@vzdelanibudoucnosti.cz']}"
            ]
          },
          "metadata": {
            "tags": []
          },
          "execution_count": 39
        }
      ]
    },
    {
      "cell_type": "code",
      "metadata": {
        "colab": {
          "base_uri": "https://localhost:8080/"
        },
        "id": "Z9_odf412p6_",
        "outputId": "e4eb1e3c-05ee-496b-e331-a684b08719dd"
      },
      "source": [
        "list_stranek"
      ],
      "execution_count": 32,
      "outputs": [
        {
          "output_type": "execute_result",
          "data": {
            "text/plain": [
              "['vesely_drak', 'vzdelanibudoucnosti', 'kruty_kody']"
            ]
          },
          "metadata": {
            "tags": []
          },
          "execution_count": 32
        }
      ]
    },
    {
      "cell_type": "code",
      "metadata": {
        "colab": {
          "base_uri": "https://localhost:8080/"
        },
        "id": "ez7DTA0q2WNT",
        "outputId": "cc276388-c5be-4a9f-ca68-0eabfc1287ba"
      },
      "source": [
        "generuj_maily(list_stranek, list_jmen_mailu)"
      ],
      "execution_count": 38,
      "outputs": [
        {
          "output_type": "execute_result",
          "data": {
            "text/plain": [
              "{'kruty_kody': ['Karel@kruty_kody.cz',\n",
              "  'Radim@kruty_kody.cz',\n",
              "  'Filip@kruty_kody.cz'],\n",
              " 'vesely_drak': ['Karel@vesely_drak.cz',\n",
              "  'Radim@vesely_drak.cz',\n",
              "  'Filip@vesely_drak.cz'],\n",
              " 'vzdelanibudoucnosti': ['Karel@vzdelanibudoucnosti.cz',\n",
              "  'Radim@vzdelanibudoucnosti.cz',\n",
              "  'Filip@vzdelanibudoucnosti.cz']}"
            ]
          },
          "metadata": {
            "tags": []
          },
          "execution_count": 38
        }
      ]
    }
  ]
}